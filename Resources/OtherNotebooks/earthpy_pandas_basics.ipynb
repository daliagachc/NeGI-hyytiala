{
 "cells": [
  {
   "cell_type": "markdown",
   "metadata": {},
   "source": [
    "**Task**:\n",
    "    \n",
    "    analysis of several time series data (AO, NAO)\n",
    "\n",
    "**Modules**:\n",
    "    \n",
    "    pandas\n",
    "\n",
    "[**Notebook file**](http://nbviewer.ipython.org/urls/github.com/koldunovn/earthpy.org/raw/master/content/earthpy_pandas_basics.ipynb)   "
   ]
  },
  {
   "cell_type": "markdown",
   "metadata": {},
   "source": [
    "Here I am going to show just some basic [pandas](http://pandas.pydata.org/) stuff for time series analysis, as I think for the Earth Scientists it's the most interesting topic. If you find this small tutorial useful, I encourage you to watch [this video](http://pyvideo.org/video/1198/time-series-data-analysis-with-pandas), where Wes McKinney give extensive introduction to the time series data analysis with pandas.\n",
    "\n",
    "On the official website you can find explanation of what problems pandas solve in general, but I can tell you what problem pandas solve for me. It makes analysis and visualisation of 1D data, especially time series, MUCH faster. Before pandas working with time series in python was a pain for me, now it's fun. Ease of use stimulate in-depth exploration of the data: why wouldn't you make some additional analysis if it's just one line of code? Hope you will also find this great tool helpful and useful. So, let's begin."
   ]
  },
  {
   "cell_type": "markdown",
   "metadata": {},
   "source": [
    "As an example we are going to use time series of [Arctic Oscillation (AO)](http://en.wikipedia.org/wiki/Arctic_oscillation) and [North Atlantic Oscillation (NAO)](http://en.wikipedia.org/wiki/North_Atlantic_oscillation) data sets."
   ]
  },
  {
   "cell_type": "markdown",
   "metadata": {},
   "source": [
    "## Module import"
   ]
  },
  {
   "cell_type": "markdown",
   "metadata": {},
   "source": [
    "First we have to import necessary modules:"
   ]
  },
  {
   "cell_type": "code",
   "execution_count": 2,
   "metadata": {
    "ExecuteTime": {
     "end_time": "2017-10-24T09:11:14.728903",
     "start_time": "2017-10-24T09:11:14.724716"
    },
    "collapsed": false
   },
   "outputs": [],
   "source": [
    "import pandas as pd\n",
    "import numpy as np\n",
    "from pandas import Series, DataFrame, Panel\n",
    "#pd.set_printoptions(max_rows=15) # this limit maximum numbers of rows"
   ]
  },
  {
   "cell_type": "markdown",
   "metadata": {},
   "source": [
    "And \"switch on\" inline graphic for the notebook:"
   ]
  },
  {
   "cell_type": "code",
   "execution_count": 3,
   "metadata": {
    "ExecuteTime": {
     "end_time": "2017-10-24T09:11:18.360243",
     "start_time": "2017-10-24T09:11:18.026467"
    },
    "collapsed": false
   },
   "outputs": [
    {
     "name": "stdout",
     "output_type": "stream",
     "text": [
      "Populating the interactive namespace from numpy and matplotlib\n"
     ]
    }
   ],
   "source": [
    "%pylab inline"
   ]
  },
  {
   "cell_type": "markdown",
   "metadata": {},
   "source": [
    "Pandas developing very fast, and while we are going to use only basic functionality, some details may still change in the newer versions. This example will only work in version > 0.8. Check yours:"
   ]
  },
  {
   "cell_type": "code",
   "execution_count": 4,
   "metadata": {
    "ExecuteTime": {
     "end_time": "2017-10-24T09:11:21.834804",
     "start_time": "2017-10-24T09:11:21.827037"
    },
    "collapsed": false
   },
   "outputs": [
    {
     "data": {
      "text/plain": [
       "u'0.19.2'"
      ]
     },
     "execution_count": 4,
     "metadata": {},
     "output_type": "execute_result"
    }
   ],
   "source": [
    "pd.__version__"
   ]
  },
  {
   "cell_type": "markdown",
   "metadata": {},
   "source": [
    "## Loading data"
   ]
  },
  {
   "cell_type": "markdown",
   "metadata": {},
   "source": [
    "Now, when we are done with preparations, let's get some data. If you work on Windows download monthly AO data [from here](http://www.cpc.ncep.noaa.gov/products/precip/CWlink/daily_ao_index/monthly.ao.index.b50.current.ascii). If you on *nix machine, you can do it directly from ipython notebook using system call to wget command:"
   ]
  },
  {
   "cell_type": "code",
   "execution_count": 5,
   "metadata": {
    "ExecuteTime": {
     "end_time": "2017-10-24T09:11:27.171431",
     "start_time": "2017-10-24T09:11:26.012298"
    },
    "collapsed": false
   },
   "outputs": [
    {
     "name": "stdout",
     "output_type": "stream",
     "text": [
      "--2017-10-24 09:11:26--  http://www.cpc.ncep.noaa.gov/products/precip/CWlink/daily_ao_index/monthly.ao.index.b50.current.ascii\n",
      "Resolving www.cpc.ncep.noaa.gov... 140.90.101.63\n",
      "Connecting to www.cpc.ncep.noaa.gov|140.90.101.63|:80... connected.\n",
      "HTTP request sent, awaiting response... 200 OK\n",
      "Length: 20325 (20K) [text/plain]\n",
      "Saving to: 'monthly.ao.index.b50.current.ascii'\n",
      "\n",
      "monthly.ao.index.b5 100%[=====================>]  19.85K  --.-KB/s   in 0.1s   \n",
      "\n",
      "2017-10-24 09:11:27 (155 KB/s) - 'monthly.ao.index.b50.current.ascii' saved [20325/20325]\n",
      "\n"
     ]
    }
   ],
   "source": [
    "!wget http://www.cpc.ncep.noaa.gov/products/precip/CWlink/daily_ao_index/monthly.ao.index.b50.current.ascii"
   ]
  },
  {
   "cell_type": "markdown",
   "metadata": {},
   "source": [
    "Pandas has very good IO capabilities, but we not going to use them in this tutorial in order to keep things simple. For now we open the file simply with numpy loadtxt:"
   ]
  },
  {
   "cell_type": "code",
   "execution_count": 6,
   "metadata": {
    "ExecuteTime": {
     "end_time": "2017-10-24T09:11:33.763689",
     "start_time": "2017-10-24T09:11:33.748851"
    },
    "collapsed": false
   },
   "outputs": [],
   "source": [
    "ao = np.loadtxt('monthly.ao.index.b50.current.ascii')"
   ]
  },
  {
   "cell_type": "markdown",
   "metadata": {},
   "source": [
    "Every line in the file consist of three elements: year, month, value:"
   ]
  },
  {
   "cell_type": "code",
   "execution_count": 7,
   "metadata": {
    "ExecuteTime": {
     "end_time": "2017-10-24T09:11:38.012816",
     "start_time": "2017-10-24T09:11:38.003420"
    },
    "collapsed": false
   },
   "outputs": [
    {
     "data": {
      "text/plain": [
       "array([[  1.95000000e+03,   1.00000000e+00,  -6.03100000e-02],\n",
       "       [  1.95000000e+03,   2.00000000e+00,   6.26810000e-01]])"
      ]
     },
     "execution_count": 7,
     "metadata": {},
     "output_type": "execute_result"
    }
   ],
   "source": [
    "ao[0:2]"
   ]
  },
  {
   "cell_type": "markdown",
   "metadata": {},
   "source": [
    "And here is the shape of our array:"
   ]
  },
  {
   "cell_type": "code",
   "execution_count": 8,
   "metadata": {
    "ExecuteTime": {
     "end_time": "2017-10-24T09:11:41.200726",
     "start_time": "2017-10-24T09:11:41.195626"
    },
    "collapsed": false
   },
   "outputs": [
    {
     "data": {
      "text/plain": [
       "(813, 3)"
      ]
     },
     "execution_count": 8,
     "metadata": {},
     "output_type": "execute_result"
    }
   ],
   "source": [
    "ao.shape"
   ]
  },
  {
   "cell_type": "markdown",
   "metadata": {},
   "source": [
    "## Time Series"
   ]
  },
  {
   "cell_type": "markdown",
   "metadata": {},
   "source": [
    "We would like to convert this data in to time series, that can be manipulated naturally and easily. First step, that we have to do is to create the range of dates for our time series. From the file it is clear, that record starts at January 1950 and ends at February 2013 (at the time I am writing this, of course). Frequency of the data is one month (freq='M'). "
   ]
  },
  {
   "cell_type": "code",
   "execution_count": 28,
   "metadata": {
    "ExecuteTime": {
     "end_time": "2017-10-24T09:15:27.934558",
     "start_time": "2017-10-24T09:15:27.876315"
    },
    "collapsed": false
   },
   "outputs": [],
   "source": [
    "dates = pd.date_range('1950-01', '2017-10', freq='M')"
   ]
  },
  {
   "cell_type": "markdown",
   "metadata": {},
   "source": [
    "As you see syntax is quite simple, and this is one of the reasons why I love Pandas so much :) Another thing to mention, is that we put March 2003 instead of February because the interval is open on the right side. You can check if the range of dates is properly generated:"
   ]
  },
  {
   "cell_type": "code",
   "execution_count": 29,
   "metadata": {
    "ExecuteTime": {
     "end_time": "2017-10-24T09:15:29.987809",
     "start_time": "2017-10-24T09:15:29.980977"
    },
    "collapsed": false
   },
   "outputs": [
    {
     "data": {
      "text/plain": [
       "DatetimeIndex(['1950-01-31', '1950-02-28', '1950-03-31', '1950-04-30',\n",
       "               '1950-05-31', '1950-06-30', '1950-07-31', '1950-08-31',\n",
       "               '1950-09-30', '1950-10-31',\n",
       "               ...\n",
       "               '2016-12-31', '2017-01-31', '2017-02-28', '2017-03-31',\n",
       "               '2017-04-30', '2017-05-31', '2017-06-30', '2017-07-31',\n",
       "               '2017-08-31', '2017-09-30'],\n",
       "              dtype='datetime64[ns]', length=813, freq='M')"
      ]
     },
     "execution_count": 29,
     "metadata": {},
     "output_type": "execute_result"
    }
   ],
   "source": [
    "dates"
   ]
  },
  {
   "cell_type": "code",
   "execution_count": 30,
   "metadata": {
    "ExecuteTime": {
     "end_time": "2017-10-24T09:15:32.991607",
     "start_time": "2017-10-24T09:15:32.987232"
    },
    "collapsed": false
   },
   "outputs": [
    {
     "data": {
      "text/plain": [
       "(813,)"
      ]
     },
     "execution_count": 30,
     "metadata": {},
     "output_type": "execute_result"
    }
   ],
   "source": [
    "dates.shape"
   ]
  },
  {
   "cell_type": "markdown",
   "metadata": {},
   "source": [
    "Now we are ready to create our first time series. Dates from the *dates* variable will be our index, and AO values will be our, hm... values:"
   ]
  },
  {
   "cell_type": "code",
   "execution_count": 31,
   "metadata": {
    "ExecuteTime": {
     "end_time": "2017-10-24T09:15:37.021831",
     "start_time": "2017-10-24T09:15:37.018341"
    },
    "collapsed": false
   },
   "outputs": [],
   "source": [
    "AO = Series(ao[:,2], index=dates)"
   ]
  },
  {
   "cell_type": "code",
   "execution_count": 32,
   "metadata": {
    "ExecuteTime": {
     "end_time": "2017-10-24T09:15:39.553009",
     "start_time": "2017-10-24T09:15:39.514400"
    },
    "collapsed": false
   },
   "outputs": [
    {
     "data": {
      "text/plain": [
       "1950-01-31   -0.060310\n",
       "1950-02-28    0.626810\n",
       "1950-03-31   -0.008127\n",
       "1950-04-30    0.555100\n",
       "1950-05-31    0.071577\n",
       "1950-06-30    0.538570\n",
       "1950-07-31   -0.802480\n",
       "1950-08-31   -0.851010\n",
       "1950-09-30    0.357970\n",
       "1950-10-31   -0.378900\n",
       "1950-11-30   -0.515110\n",
       "1950-12-31   -1.928100\n",
       "1951-01-31   -0.084969\n",
       "1951-02-28   -0.399930\n",
       "1951-03-31   -1.934100\n",
       "1951-04-30   -0.776480\n",
       "1951-05-31   -0.862780\n",
       "1951-06-30   -0.917860\n",
       "1951-07-31    0.090023\n",
       "1951-08-31   -0.377410\n",
       "1951-09-30   -0.817780\n",
       "1951-10-31   -0.212910\n",
       "1951-11-30   -0.068519\n",
       "1951-12-31    1.987200\n",
       "1952-01-31    0.368250\n",
       "1952-02-29   -1.747200\n",
       "1952-03-31   -1.859500\n",
       "1952-04-30    0.538520\n",
       "1952-05-31   -0.773510\n",
       "1952-06-30   -0.440930\n",
       "                ...   \n",
       "2015-04-30    1.215700\n",
       "2015-05-31    0.762760\n",
       "2015-06-30    0.427040\n",
       "2015-07-31   -1.107900\n",
       "2015-08-31   -0.689020\n",
       "2015-09-30   -0.164510\n",
       "2015-10-31   -0.250060\n",
       "2015-11-30    1.945000\n",
       "2015-12-31    1.444100\n",
       "2016-01-31   -1.448700\n",
       "2016-02-29   -0.023521\n",
       "2016-03-31    0.280240\n",
       "2016-04-30   -1.051100\n",
       "2016-05-31   -0.035739\n",
       "2016-06-30    0.312880\n",
       "2016-07-31    0.084758\n",
       "2016-08-31    0.472380\n",
       "2016-09-30    0.780970\n",
       "2016-10-31   -1.917300\n",
       "2016-11-30   -0.610910\n",
       "2016-12-31    1.786400\n",
       "2017-01-31    0.941970\n",
       "2017-02-28    0.339860\n",
       "2017-03-31    1.365400\n",
       "2017-04-30   -0.088658\n",
       "2017-05-31   -0.730140\n",
       "2017-06-30    0.401660\n",
       "2017-07-31    0.634230\n",
       "2017-08-31    0.150040\n",
       "2017-09-30   -0.492450\n",
       "Freq: M, dtype: float64"
      ]
     },
     "execution_count": 32,
     "metadata": {},
     "output_type": "execute_result"
    }
   ],
   "source": [
    "AO"
   ]
  },
  {
   "cell_type": "markdown",
   "metadata": {},
   "source": [
    "Now we can plot complete time series:"
   ]
  },
  {
   "cell_type": "code",
   "execution_count": 33,
   "metadata": {
    "ExecuteTime": {
     "end_time": "2017-10-24T09:15:45.168329",
     "start_time": "2017-10-24T09:15:44.778793"
    },
    "collapsed": false
   },
   "outputs": [
    {
     "data": {
      "text/plain": [
       "<matplotlib.axes._subplots.AxesSubplot at 0x11109cfd0>"
      ]
     },
     "execution_count": 33,
     "metadata": {},
     "output_type": "execute_result"
    },
    {
     "data": {
      "image/png": "[encoded data removed]",
      "text/plain": [
       "<matplotlib.figure.Figure at 0x11109ca10>"
      ]
     },
     "metadata": {},
     "output_type": "display_data"
    }
   ],
   "source": [
    "AO.plot()"
   ]
  },
  {
   "cell_type": "markdown",
   "metadata": {},
   "source": [
    "or its part:"
   ]
  },
  {
   "cell_type": "code",
   "execution_count": 34,
   "metadata": {
    "ExecuteTime": {
     "end_time": "2017-10-24T09:15:49.655980",
     "start_time": "2017-10-24T09:15:49.251017"
    },
    "collapsed": false
   },
   "outputs": [
    {
     "data": {
      "text/plain": [
       "<matplotlib.axes._subplots.AxesSubplot at 0x114526b90>"
      ]
     },
     "execution_count": 34,
     "metadata": {},
     "output_type": "execute_result"
    },
    {
     "data": {
      "image/png": "[encoded data removed]",
      "text/plain": [
       "<matplotlib.figure.Figure at 0x1110ff9d0>"
      ]
     },
     "metadata": {},
     "output_type": "display_data"
    }
   ],
   "source": [
    "AO['1980':'1990'].plot()"
   ]
  },
  {
   "cell_type": "markdown",
   "metadata": {},
   "source": [
    "or even smaller part:"
   ]
  },
  {
   "cell_type": "code",
   "execution_count": 35,
   "metadata": {
    "ExecuteTime": {
     "end_time": "2017-10-24T09:15:53.641265",
     "start_time": "2017-10-24T09:15:53.363110"
    },
    "collapsed": false
   },
   "outputs": [
    {
     "data": {
      "text/plain": [
       "<matplotlib.axes._subplots.AxesSubplot at 0x1147376d0>"
      ]
     },
     "execution_count": 35,
     "metadata": {},
     "output_type": "execute_result"
    },
    {
     "data": {
      "image/png": "[encoded data removed]",
      "text/plain": [
       "<matplotlib.figure.Figure at 0x114741fd0>"
      ]
     },
     "metadata": {},
     "output_type": "display_data"
    }
   ],
   "source": [
    "AO['1980-05':'1981-03'].plot()"
   ]
  },
  {
   "cell_type": "markdown",
   "metadata": {},
   "source": [
    "Reference to the time periods is done in a very natural way. You, of course, can also get individual values. By number: "
   ]
  },
  {
   "cell_type": "code",
   "execution_count": 36,
   "metadata": {
    "ExecuteTime": {
     "end_time": "2017-10-24T09:15:55.993365",
     "start_time": "2017-10-24T09:15:55.987929"
    },
    "collapsed": false
   },
   "outputs": [
    {
     "data": {
      "text/plain": [
       "-2.4842"
      ]
     },
     "execution_count": 36,
     "metadata": {},
     "output_type": "execute_result"
    }
   ],
   "source": [
    "AO[120]"
   ]
  },
  {
   "cell_type": "markdown",
   "metadata": {},
   "source": [
    "or by index (date in our case):"
   ]
  },
  {
   "cell_type": "code",
   "execution_count": 37,
   "metadata": {
    "ExecuteTime": {
     "end_time": "2017-10-24T09:15:58.238783",
     "start_time": "2017-10-24T09:15:58.220326"
    },
    "collapsed": false
   },
   "outputs": [
    {
     "data": {
      "text/plain": [
       "1960-01-31   -2.4842\n",
       "Freq: M, dtype: float64"
      ]
     },
     "execution_count": 37,
     "metadata": {},
     "output_type": "execute_result"
    }
   ],
   "source": [
    "AO['1960-01']"
   ]
  },
  {
   "cell_type": "markdown",
   "metadata": {},
   "source": [
    "And what if we choose only one year?"
   ]
  },
  {
   "cell_type": "code",
   "execution_count": 38,
   "metadata": {
    "ExecuteTime": {
     "end_time": "2017-10-24T09:16:00.556156",
     "start_time": "2017-10-24T09:16:00.539087"
    },
    "collapsed": false
   },
   "outputs": [
    {
     "data": {
      "text/plain": [
       "1960-01-31   -2.484200\n",
       "1960-02-29   -2.212400\n",
       "1960-03-31   -1.624600\n",
       "1960-04-30   -0.297310\n",
       "1960-05-31   -0.857430\n",
       "1960-06-30    0.054978\n",
       "1960-07-31   -0.619060\n",
       "1960-08-31   -1.007900\n",
       "1960-09-30   -0.381640\n",
       "1960-10-31   -1.187000\n",
       "1960-11-30   -0.553230\n",
       "1960-12-31   -0.342950\n",
       "Freq: M, dtype: float64"
      ]
     },
     "execution_count": 38,
     "metadata": {},
     "output_type": "execute_result"
    }
   ],
   "source": [
    "AO['1960']"
   ]
  },
  {
   "cell_type": "markdown",
   "metadata": {},
   "source": [
    "Isn't that great? :)"
   ]
  },
  {
   "cell_type": "markdown",
   "metadata": {},
   "source": [
    "One bonus example :)"
   ]
  },
  {
   "cell_type": "code",
   "execution_count": 39,
   "metadata": {
    "ExecuteTime": {
     "end_time": "2017-10-24T09:16:17.120096",
     "start_time": "2017-10-24T09:16:17.102192"
    },
    "collapsed": false
   },
   "outputs": [
    {
     "data": {
      "text/plain": [
       "1950-02-28    0.626810\n",
       "1950-04-30    0.555100\n",
       "1950-05-31    0.071577\n",
       "1950-06-30    0.538570\n",
       "1950-09-30    0.357970\n",
       "1951-07-31    0.090023\n",
       "1951-12-31    1.987200\n",
       "1952-01-31    0.368250\n",
       "1952-04-30    0.538520\n",
       "1952-07-31    0.383080\n",
       "1953-03-31    1.068300\n",
       "1953-06-30    0.022535\n",
       "1953-07-31    0.333170\n",
       "1953-08-31    0.084960\n",
       "1953-09-30    0.661610\n",
       "1953-11-30    0.353600\n",
       "1953-12-31    0.575470\n",
       "1954-03-31    0.475720\n",
       "1954-04-30    0.511690\n",
       "1954-07-31    0.340890\n",
       "1954-09-30    0.301500\n",
       "1954-10-31    0.512570\n",
       "1954-12-31    0.552590\n",
       "1955-04-30    0.194230\n",
       "1955-05-31    0.241610\n",
       "1955-07-31    0.331940\n",
       "1955-08-31    0.760120\n",
       "1955-09-30    0.356760\n",
       "1955-10-31    0.099053\n",
       "1956-03-31    0.470360\n",
       "                ...   \n",
       "2013-08-31    0.154250\n",
       "2013-10-31    0.262760\n",
       "2013-11-30    2.029000\n",
       "2013-12-31    1.474900\n",
       "2014-02-28    0.043775\n",
       "2014-03-31    1.205800\n",
       "2014-04-30    0.971970\n",
       "2014-05-31    0.464210\n",
       "2014-09-30    0.101910\n",
       "2014-12-31    0.412920\n",
       "2015-01-31    1.091600\n",
       "2015-02-28    1.042600\n",
       "2015-03-31    1.837400\n",
       "2015-04-30    1.215700\n",
       "2015-05-31    0.762760\n",
       "2015-06-30    0.427040\n",
       "2015-11-30    1.945000\n",
       "2015-12-31    1.444100\n",
       "2016-03-31    0.280240\n",
       "2016-06-30    0.312880\n",
       "2016-07-31    0.084758\n",
       "2016-08-31    0.472380\n",
       "2016-09-30    0.780970\n",
       "2016-12-31    1.786400\n",
       "2017-01-31    0.941970\n",
       "2017-02-28    0.339860\n",
       "2017-03-31    1.365400\n",
       "2017-06-30    0.401660\n",
       "2017-07-31    0.634230\n",
       "2017-08-31    0.150040\n",
       "dtype: float64"
      ]
     },
     "execution_count": 39,
     "metadata": {},
     "output_type": "execute_result"
    }
   ],
   "source": [
    "AO[AO > 0]"
   ]
  },
  {
   "cell_type": "markdown",
   "metadata": {},
   "source": [
    "## Data Frame"
   ]
  },
  {
   "cell_type": "markdown",
   "metadata": {},
   "source": [
    "Now let's make live a bit more interesting and download more data. This will be NOA time series (Windowd users can get it [here](http://www.cpc.ncep.noaa.gov/products/precip/CWlink/pna/norm.nao.monthly.b5001.current.ascii))."
   ]
  },
  {
   "cell_type": "code",
   "execution_count": 40,
   "metadata": {
    "ExecuteTime": {
     "end_time": "2017-10-24T09:16:33.462233",
     "start_time": "2017-10-24T09:16:32.942270"
    },
    "collapsed": false
   },
   "outputs": [
    {
     "name": "stdout",
     "output_type": "stream",
     "text": [
      "--2017-10-24 09:16:32--  http://www.cpc.ncep.noaa.gov/products/precip/CWlink/pna/norm.nao.monthly.b5001.current.ascii\n",
      "Resolving www.cpc.ncep.noaa.gov... 140.90.101.63\n",
      "Connecting to www.cpc.ncep.noaa.gov|140.90.101.63|:80... connected.\n",
      "HTTP request sent, awaiting response... 200 OK\n",
      "Length: 19512 (19K) [text/plain]\n",
      "Saving to: 'norm.nao.monthly.b5001.current.ascii'\n",
      "\n",
      "norm.nao.monthly.b5 100%[=====================>]  19.05K  --.-KB/s   in 0.1s   \n",
      "\n",
      "2017-10-24 09:16:33 (150 KB/s) - 'norm.nao.monthly.b5001.current.ascii' saved [19512/19512]\n",
      "\n"
     ]
    }
   ],
   "source": [
    "!wget http://www.cpc.ncep.noaa.gov/products/precip/CWlink/pna/norm.nao.monthly.b5001.current.ascii"
   ]
  },
  {
   "cell_type": "markdown",
   "metadata": {},
   "source": [
    "Create Series the same way as we did for AO:"
   ]
  },
  {
   "cell_type": "code",
   "execution_count": 42,
   "metadata": {
    "ExecuteTime": {
     "end_time": "2017-10-24T09:16:47.299293",
     "start_time": "2017-10-24T09:16:47.245234"
    },
    "collapsed": false
   },
   "outputs": [],
   "source": [
    "nao = np.loadtxt('norm.nao.monthly.b5001.current.ascii')\n",
    "dates_nao = pd.date_range('1950-01', '2017-10', freq='M')\n",
    "NAO = Series(nao[:,2], index=dates_nao)"
   ]
  },
  {
   "cell_type": "markdown",
   "metadata": {},
   "source": [
    "Time period is the same:"
   ]
  },
  {
   "cell_type": "code",
   "execution_count": 43,
   "metadata": {
    "ExecuteTime": {
     "end_time": "2017-10-24T09:16:49.402449",
     "start_time": "2017-10-24T09:16:49.396681"
    },
    "collapsed": false
   },
   "outputs": [
    {
     "data": {
      "text/plain": [
       "DatetimeIndex(['1950-01-31', '1950-02-28', '1950-03-31', '1950-04-30',\n",
       "               '1950-05-31', '1950-06-30', '1950-07-31', '1950-08-31',\n",
       "               '1950-09-30', '1950-10-31',\n",
       "               ...\n",
       "               '2016-12-31', '2017-01-31', '2017-02-28', '2017-03-31',\n",
       "               '2017-04-30', '2017-05-31', '2017-06-30', '2017-07-31',\n",
       "               '2017-08-31', '2017-09-30'],\n",
       "              dtype='datetime64[ns]', length=813, freq='M')"
      ]
     },
     "execution_count": 43,
     "metadata": {},
     "output_type": "execute_result"
    }
   ],
   "source": [
    "NAO.index"
   ]
  },
  {
   "cell_type": "markdown",
   "metadata": {},
   "source": [
    "Now we create Data Frame, that will contain both AO and NAO data. It sort of an Excel table where the first row contain headers for the columns and firs column is an index:"
   ]
  },
  {
   "cell_type": "code",
   "execution_count": 44,
   "metadata": {
    "ExecuteTime": {
     "end_time": "2017-10-24T09:16:51.961130",
     "start_time": "2017-10-24T09:16:51.956797"
    },
    "collapsed": false
   },
   "outputs": [],
   "source": [
    "aonao = DataFrame({'AO' : AO, 'NAO' : NAO})"
   ]
  },
  {
   "cell_type": "markdown",
   "metadata": {},
   "source": [
    "One can plot the data straight away:"
   ]
  },
  {
   "cell_type": "code",
   "execution_count": 45,
   "metadata": {
    "ExecuteTime": {
     "end_time": "2017-10-24T09:16:53.755770",
     "start_time": "2017-10-24T09:16:53.412986"
    },
    "collapsed": false
   },
   "outputs": [
    {
     "data": {
      "text/plain": [
       "<matplotlib.axes._subplots.AxesSubplot at 0x11103b110>"
      ]
     },
     "execution_count": 45,
     "metadata": {},
     "output_type": "execute_result"
    },
    {
     "data": {
      "image/png": "[encoded data removed]",
      "text/plain": [
       "<matplotlib.figure.Figure at 0x114894a90>"
      ]
     },
     "metadata": {},
     "output_type": "display_data"
    }
   ],
   "source": [
    "aonao.plot()"
   ]
  },
  {
   "cell_type": "markdown",
   "metadata": {},
   "source": [
    "Or have a look at the first several rows:"
   ]
  },
  {
   "cell_type": "code",
   "execution_count": 46,
   "metadata": {
    "ExecuteTime": {
     "end_time": "2017-10-24T09:16:59.682043",
     "start_time": "2017-10-24T09:16:59.665189"
    },
    "collapsed": false
   },
   "outputs": [
    {
     "data": {
      "text/html": [
       "<div>\n",
       "<table border=\"1\" class=\"dataframe\">\n",
       "  <thead>\n",
       "    <tr style=\"text-align: right;\">\n",
       "      <th></th>\n",
       "      <th>AO</th>\n",
       "      <th>NAO</th>\n",
       "    </tr>\n",
       "  </thead>\n",
       "  <tbody>\n",
       "    <tr>\n",
       "      <th>1950-01-31</th>\n",
       "      <td>-0.060310</td>\n",
       "      <td>0.92</td>\n",
       "    </tr>\n",
       "    <tr>\n",
       "      <th>1950-02-28</th>\n",
       "      <td>0.626810</td>\n",
       "      <td>0.40</td>\n",
       "    </tr>\n",
       "    <tr>\n",
       "      <th>1950-03-31</th>\n",
       "      <td>-0.008127</td>\n",
       "      <td>-0.36</td>\n",
       "    </tr>\n",
       "    <tr>\n",
       "      <th>1950-04-30</th>\n",
       "      <td>0.555100</td>\n",
       "      <td>0.73</td>\n",
       "    </tr>\n",
       "    <tr>\n",
       "      <th>1950-05-31</th>\n",
       "      <td>0.071577</td>\n",
       "      <td>-0.59</td>\n",
       "    </tr>\n",
       "  </tbody>\n",
       "</table>\n",
       "</div>"
      ],
      "text/plain": [
       "                  AO   NAO\n",
       "1950-01-31 -0.060310  0.92\n",
       "1950-02-28  0.626810  0.40\n",
       "1950-03-31 -0.008127 -0.36\n",
       "1950-04-30  0.555100  0.73\n",
       "1950-05-31  0.071577 -0.59"
      ]
     },
     "execution_count": 46,
     "metadata": {},
     "output_type": "execute_result"
    }
   ],
   "source": [
    "aonao.head()"
   ]
  },
  {
   "cell_type": "markdown",
   "metadata": {},
   "source": [
    "We can reference each column by its name:"
   ]
  },
  {
   "cell_type": "code",
   "execution_count": 47,
   "metadata": {
    "ExecuteTime": {
     "end_time": "2017-10-24T09:17:02.670758",
     "start_time": "2017-10-24T09:17:02.653624"
    },
    "collapsed": false
   },
   "outputs": [
    {
     "data": {
      "text/plain": [
       "1950-01-31    0.920000\n",
       "1950-02-28    0.400000\n",
       "1950-03-31   -0.360000\n",
       "1950-04-30    0.730000\n",
       "1950-05-31   -0.590000\n",
       "1950-06-30   -0.060000\n",
       "1950-07-31   -1.260000\n",
       "1950-08-31   -0.050000\n",
       "1950-09-30    0.250000\n",
       "1950-10-31    0.850000\n",
       "1950-11-30   -1.260000\n",
       "1950-12-31   -1.020000\n",
       "1951-01-31    0.080000\n",
       "1951-02-28    0.700000\n",
       "1951-03-31   -1.020000\n",
       "1951-04-30   -0.220000\n",
       "1951-05-31   -0.590000\n",
       "1951-06-30   -1.640000\n",
       "1951-07-31    1.370000\n",
       "1951-08-31   -0.220000\n",
       "1951-09-30   -1.360000\n",
       "1951-10-31    1.870000\n",
       "1951-11-30   -0.390000\n",
       "1951-12-31    1.320000\n",
       "1952-01-31    0.930000\n",
       "1952-02-29   -0.830000\n",
       "1952-03-31   -1.490000\n",
       "1952-04-30    1.010000\n",
       "1952-05-31   -1.120000\n",
       "1952-06-30   -0.400000\n",
       "                ...   \n",
       "2015-04-30    0.725350\n",
       "2015-05-31    0.145520\n",
       "2015-06-30   -0.066822\n",
       "2015-07-31   -3.179000\n",
       "2015-08-31   -0.760360\n",
       "2015-09-30   -0.648460\n",
       "2015-10-31    0.437230\n",
       "2015-11-30    1.743800\n",
       "2015-12-31    2.243600\n",
       "2016-01-31    0.116520\n",
       "2016-02-29    1.580300\n",
       "2016-03-31    0.734400\n",
       "2016-04-30    0.375140\n",
       "2016-05-31   -0.773580\n",
       "2016-06-30   -0.432510\n",
       "2016-07-31   -1.760300\n",
       "2016-08-31   -1.645300\n",
       "2016-09-30    0.610960\n",
       "2016-10-31    0.411250\n",
       "2016-11-30   -0.163660\n",
       "2016-12-31    0.478330\n",
       "2017-01-31    0.478240\n",
       "2017-02-28    1.004800\n",
       "2017-03-31    0.737020\n",
       "2017-04-30    1.732500\n",
       "2017-05-31   -1.911000\n",
       "2017-06-30    0.045036\n",
       "2017-07-31    1.255600\n",
       "2017-08-31   -1.097700\n",
       "2017-09-30   -0.612730\n",
       "Freq: M, Name: NAO, dtype: float64"
      ]
     },
     "execution_count": 47,
     "metadata": {},
     "output_type": "execute_result"
    }
   ],
   "source": [
    "aonao['NAO']"
   ]
  },
  {
   "cell_type": "markdown",
   "metadata": {},
   "source": [
    "or as method of the Data Frame variable (if name of the variable is a valid python name):"
   ]
  },
  {
   "cell_type": "code",
   "execution_count": 48,
   "metadata": {
    "ExecuteTime": {
     "end_time": "2017-10-24T09:17:07.510381",
     "start_time": "2017-10-24T09:17:07.493689"
    },
    "collapsed": false
   },
   "outputs": [
    {
     "data": {
      "text/plain": [
       "1950-01-31    0.920000\n",
       "1950-02-28    0.400000\n",
       "1950-03-31   -0.360000\n",
       "1950-04-30    0.730000\n",
       "1950-05-31   -0.590000\n",
       "1950-06-30   -0.060000\n",
       "1950-07-31   -1.260000\n",
       "1950-08-31   -0.050000\n",
       "1950-09-30    0.250000\n",
       "1950-10-31    0.850000\n",
       "1950-11-30   -1.260000\n",
       "1950-12-31   -1.020000\n",
       "1951-01-31    0.080000\n",
       "1951-02-28    0.700000\n",
       "1951-03-31   -1.020000\n",
       "1951-04-30   -0.220000\n",
       "1951-05-31   -0.590000\n",
       "1951-06-30   -1.640000\n",
       "1951-07-31    1.370000\n",
       "1951-08-31   -0.220000\n",
       "1951-09-30   -1.360000\n",
       "1951-10-31    1.870000\n",
       "1951-11-30   -0.390000\n",
       "1951-12-31    1.320000\n",
       "1952-01-31    0.930000\n",
       "1952-02-29   -0.830000\n",
       "1952-03-31   -1.490000\n",
       "1952-04-30    1.010000\n",
       "1952-05-31   -1.120000\n",
       "1952-06-30   -0.400000\n",
       "                ...   \n",
       "2015-04-30    0.725350\n",
       "2015-05-31    0.145520\n",
       "2015-06-30   -0.066822\n",
       "2015-07-31   -3.179000\n",
       "2015-08-31   -0.760360\n",
       "2015-09-30   -0.648460\n",
       "2015-10-31    0.437230\n",
       "2015-11-30    1.743800\n",
       "2015-12-31    2.243600\n",
       "2016-01-31    0.116520\n",
       "2016-02-29    1.580300\n",
       "2016-03-31    0.734400\n",
       "2016-04-30    0.375140\n",
       "2016-05-31   -0.773580\n",
       "2016-06-30   -0.432510\n",
       "2016-07-31   -1.760300\n",
       "2016-08-31   -1.645300\n",
       "2016-09-30    0.610960\n",
       "2016-10-31    0.411250\n",
       "2016-11-30   -0.163660\n",
       "2016-12-31    0.478330\n",
       "2017-01-31    0.478240\n",
       "2017-02-28    1.004800\n",
       "2017-03-31    0.737020\n",
       "2017-04-30    1.732500\n",
       "2017-05-31   -1.911000\n",
       "2017-06-30    0.045036\n",
       "2017-07-31    1.255600\n",
       "2017-08-31   -1.097700\n",
       "2017-09-30   -0.612730\n",
       "Freq: M, Name: NAO, dtype: float64"
      ]
     },
     "execution_count": 48,
     "metadata": {},
     "output_type": "execute_result"
    }
   ],
   "source": [
    "aonao.NAO"
   ]
  },
  {
   "cell_type": "markdown",
   "metadata": {},
   "source": [
    "We can simply add column to the Data Frame:"
   ]
  },
  {
   "cell_type": "code",
   "execution_count": 49,
   "metadata": {
    "ExecuteTime": {
     "end_time": "2017-10-24T09:17:11.460575",
     "start_time": "2017-10-24T09:17:11.445910"
    },
    "collapsed": false
   },
   "outputs": [
    {
     "data": {
      "text/html": [
       "<div>\n",
       "<table border=\"1\" class=\"dataframe\">\n",
       "  <thead>\n",
       "    <tr style=\"text-align: right;\">\n",
       "      <th></th>\n",
       "      <th>AO</th>\n",
       "      <th>NAO</th>\n",
       "      <th>Diff</th>\n",
       "    </tr>\n",
       "  </thead>\n",
       "  <tbody>\n",
       "    <tr>\n",
       "      <th>1950-01-31</th>\n",
       "      <td>-0.060310</td>\n",
       "      <td>0.92</td>\n",
       "      <td>-0.980310</td>\n",
       "    </tr>\n",
       "    <tr>\n",
       "      <th>1950-02-28</th>\n",
       "      <td>0.626810</td>\n",
       "      <td>0.40</td>\n",
       "      <td>0.226810</td>\n",
       "    </tr>\n",
       "    <tr>\n",
       "      <th>1950-03-31</th>\n",
       "      <td>-0.008127</td>\n",
       "      <td>-0.36</td>\n",
       "      <td>0.351872</td>\n",
       "    </tr>\n",
       "    <tr>\n",
       "      <th>1950-04-30</th>\n",
       "      <td>0.555100</td>\n",
       "      <td>0.73</td>\n",
       "      <td>-0.174900</td>\n",
       "    </tr>\n",
       "    <tr>\n",
       "      <th>1950-05-31</th>\n",
       "      <td>0.071577</td>\n",
       "      <td>-0.59</td>\n",
       "      <td>0.661577</td>\n",
       "    </tr>\n",
       "  </tbody>\n",
       "</table>\n",
       "</div>"
      ],
      "text/plain": [
       "                  AO   NAO      Diff\n",
       "1950-01-31 -0.060310  0.92 -0.980310\n",
       "1950-02-28  0.626810  0.40  0.226810\n",
       "1950-03-31 -0.008127 -0.36  0.351872\n",
       "1950-04-30  0.555100  0.73 -0.174900\n",
       "1950-05-31  0.071577 -0.59  0.661577"
      ]
     },
     "execution_count": 49,
     "metadata": {},
     "output_type": "execute_result"
    }
   ],
   "source": [
    "aonao['Diff'] = aonao['AO'] - aonao['NAO']\n",
    "aonao.head()"
   ]
  },
  {
   "cell_type": "markdown",
   "metadata": {},
   "source": [
    "And delete it:"
   ]
  },
  {
   "cell_type": "code",
   "execution_count": 50,
   "metadata": {
    "ExecuteTime": {
     "end_time": "2017-10-24T09:17:13.707225",
     "start_time": "2017-10-24T09:17:13.687866"
    },
    "collapsed": false
   },
   "outputs": [
    {
     "data": {
      "text/html": [
       "<div>\n",
       "<table border=\"1\" class=\"dataframe\">\n",
       "  <thead>\n",
       "    <tr style=\"text-align: right;\">\n",
       "      <th></th>\n",
       "      <th>AO</th>\n",
       "      <th>NAO</th>\n",
       "    </tr>\n",
       "  </thead>\n",
       "  <tbody>\n",
       "    <tr>\n",
       "      <th>2017-05-31</th>\n",
       "      <td>-0.73014</td>\n",
       "      <td>-1.911000</td>\n",
       "    </tr>\n",
       "    <tr>\n",
       "      <th>2017-06-30</th>\n",
       "      <td>0.40166</td>\n",
       "      <td>0.045036</td>\n",
       "    </tr>\n",
       "    <tr>\n",
       "      <th>2017-07-31</th>\n",
       "      <td>0.63423</td>\n",
       "      <td>1.255600</td>\n",
       "    </tr>\n",
       "    <tr>\n",
       "      <th>2017-08-31</th>\n",
       "      <td>0.15004</td>\n",
       "      <td>-1.097700</td>\n",
       "    </tr>\n",
       "    <tr>\n",
       "      <th>2017-09-30</th>\n",
       "      <td>-0.49245</td>\n",
       "      <td>-0.612730</td>\n",
       "    </tr>\n",
       "  </tbody>\n",
       "</table>\n",
       "</div>"
      ],
      "text/plain": [
       "                 AO       NAO\n",
       "2017-05-31 -0.73014 -1.911000\n",
       "2017-06-30  0.40166  0.045036\n",
       "2017-07-31  0.63423  1.255600\n",
       "2017-08-31  0.15004 -1.097700\n",
       "2017-09-30 -0.49245 -0.612730"
      ]
     },
     "execution_count": 50,
     "metadata": {},
     "output_type": "execute_result"
    }
   ],
   "source": [
    "del aonao['Diff']\n",
    "aonao.tail()"
   ]
  },
  {
   "cell_type": "markdown",
   "metadata": {},
   "source": [
    "Slicing will also work:"
   ]
  },
  {
   "cell_type": "code",
   "execution_count": 51,
   "metadata": {
    "ExecuteTime": {
     "end_time": "2017-10-24T09:17:16.841444",
     "start_time": "2017-10-24T09:17:16.830395"
    },
    "collapsed": false
   },
   "outputs": [
    {
     "data": {
      "text/html": [
       "<div>\n",
       "<table border=\"1\" class=\"dataframe\">\n",
       "  <thead>\n",
       "    <tr style=\"text-align: right;\">\n",
       "      <th></th>\n",
       "      <th>AO</th>\n",
       "      <th>NAO</th>\n",
       "    </tr>\n",
       "  </thead>\n",
       "  <tbody>\n",
       "    <tr>\n",
       "      <th>1981-01-31</th>\n",
       "      <td>-0.11634</td>\n",
       "      <td>0.37</td>\n",
       "    </tr>\n",
       "    <tr>\n",
       "      <th>1981-02-28</th>\n",
       "      <td>-0.33158</td>\n",
       "      <td>0.92</td>\n",
       "    </tr>\n",
       "    <tr>\n",
       "      <th>1981-03-31</th>\n",
       "      <td>-1.64470</td>\n",
       "      <td>-1.19</td>\n",
       "    </tr>\n",
       "  </tbody>\n",
       "</table>\n",
       "</div>"
      ],
      "text/plain": [
       "                 AO   NAO\n",
       "1981-01-31 -0.11634  0.37\n",
       "1981-02-28 -0.33158  0.92\n",
       "1981-03-31 -1.64470 -1.19"
      ]
     },
     "execution_count": 51,
     "metadata": {},
     "output_type": "execute_result"
    }
   ],
   "source": [
    "aonao['1981-01':'1981-03']"
   ]
  },
  {
   "cell_type": "markdown",
   "metadata": {},
   "source": [
    "even in some crazy combinations:"
   ]
  },
  {
   "cell_type": "code",
   "execution_count": 52,
   "metadata": {
    "ExecuteTime": {
     "end_time": "2017-10-24T09:17:21.358498",
     "start_time": "2017-10-24T09:17:21.039034"
    },
    "collapsed": false
   },
   "outputs": [
    {
     "data": {
      "text/plain": [
       "<matplotlib.axes._subplots.AxesSubplot at 0x1149c1050>"
      ]
     },
     "execution_count": 52,
     "metadata": {},
     "output_type": "execute_result"
    },
    {
     "data": {
      "image/png": "[encoded data removed]",
      "text/plain": [
       "<matplotlib.figure.Figure at 0x114a23cd0>"
      ]
     },
     "metadata": {},
     "output_type": "display_data"
    }
   ],
   "source": [
    "import datetime\n",
    "aonao.ix[(aonao.AO > 0) & (aonao.NAO < 0) \n",
    "        & (aonao.index > datetime.datetime(1980,1,1)) \n",
    "        & (aonao.index < datetime.datetime(1989,1,1)),\n",
    "        'NAO'].plot(kind='barh')"
   ]
  },
  {
   "cell_type": "markdown",
   "metadata": {},
   "source": [
    "Here we use special [advanced indexing attribute .ix](http://pandas.pydata.org/pandas-docs/stable/indexing.html#advanced-indexing-with-labels). We choose all NAO values in the 1980s for months where AO is positive and NAO is negative, and then plot them. Magic :)"
   ]
  },
  {
   "cell_type": "markdown",
   "metadata": {},
   "source": [
    "## Statistics"
   ]
  },
  {
   "cell_type": "markdown",
   "metadata": {},
   "source": [
    "Back to simple stuff. We can obtain statistical information over elements of the Data Frame. Default is column wise:"
   ]
  },
  {
   "cell_type": "code",
   "execution_count": 53,
   "metadata": {
    "ExecuteTime": {
     "end_time": "2017-10-24T09:17:27.515598",
     "start_time": "2017-10-24T09:17:27.501817"
    },
    "collapsed": false
   },
   "outputs": [
    {
     "data": {
      "text/plain": [
       "AO    -0.112315\n",
       "NAO   -0.016504\n",
       "dtype: float64"
      ]
     },
     "execution_count": 53,
     "metadata": {},
     "output_type": "execute_result"
    }
   ],
   "source": [
    "aonao.mean()"
   ]
  },
  {
   "cell_type": "code",
   "execution_count": 54,
   "metadata": {
    "ExecuteTime": {
     "end_time": "2017-10-24T09:17:29.792176",
     "start_time": "2017-10-24T09:17:29.785250"
    },
    "collapsed": false
   },
   "outputs": [
    {
     "data": {
      "text/plain": [
       "AO     3.4953\n",
       "NAO    3.0400\n",
       "dtype: float64"
      ]
     },
     "execution_count": 54,
     "metadata": {},
     "output_type": "execute_result"
    }
   ],
   "source": [
    "aonao.max()"
   ]
  },
  {
   "cell_type": "code",
   "execution_count": 55,
   "metadata": {
    "ExecuteTime": {
     "end_time": "2017-10-24T09:17:31.412572",
     "start_time": "2017-10-24T09:17:31.406194"
    },
    "collapsed": false
   },
   "outputs": [
    {
     "data": {
      "text/plain": [
       "AO    -4.2657\n",
       "NAO   -3.1800\n",
       "dtype: float64"
      ]
     },
     "execution_count": 55,
     "metadata": {},
     "output_type": "execute_result"
    }
   ],
   "source": [
    "aonao.min()"
   ]
  },
  {
   "cell_type": "markdown",
   "metadata": {},
   "source": [
    "You can also do it row-wise:"
   ]
  },
  {
   "cell_type": "code",
   "execution_count": 56,
   "metadata": {
    "ExecuteTime": {
     "end_time": "2017-10-24T09:17:33.721298",
     "start_time": "2017-10-24T09:17:33.701814"
    },
    "collapsed": false
   },
   "outputs": [
    {
     "data": {
      "text/plain": [
       "1950-01-31    0.429845\n",
       "1950-02-28    0.513405\n",
       "1950-03-31   -0.184064\n",
       "1950-04-30    0.642550\n",
       "1950-05-31   -0.259211\n",
       "1950-06-30    0.239285\n",
       "1950-07-31   -1.031240\n",
       "1950-08-31   -0.450505\n",
       "1950-09-30    0.303985\n",
       "1950-10-31    0.235550\n",
       "1950-11-30   -0.887555\n",
       "1950-12-31   -1.474050\n",
       "1951-01-31   -0.002485\n",
       "1951-02-28    0.150035\n",
       "1951-03-31   -1.477050\n",
       "1951-04-30   -0.498240\n",
       "1951-05-31   -0.726390\n",
       "1951-06-30   -1.278930\n",
       "1951-07-31    0.730012\n",
       "1951-08-31   -0.298705\n",
       "1951-09-30   -1.088890\n",
       "1951-10-31    0.828545\n",
       "1951-11-30   -0.229260\n",
       "1951-12-31    1.653600\n",
       "1952-01-31    0.649125\n",
       "1952-02-29   -1.288600\n",
       "1952-03-31   -1.674750\n",
       "1952-04-30    0.774260\n",
       "1952-05-31   -0.946755\n",
       "1952-06-30   -0.420465\n",
       "                ...   \n",
       "2015-04-30    0.970525\n",
       "2015-05-31    0.454140\n",
       "2015-06-30    0.180109\n",
       "2015-07-31   -2.143450\n",
       "2015-08-31   -0.724690\n",
       "2015-09-30   -0.406485\n",
       "2015-10-31    0.093585\n",
       "2015-11-30    1.844400\n",
       "2015-12-31    1.843850\n",
       "2016-01-31   -0.666090\n",
       "2016-02-29    0.778390\n",
       "2016-03-31    0.507320\n",
       "2016-04-30   -0.337980\n",
       "2016-05-31   -0.404660\n",
       "2016-06-30   -0.059815\n",
       "2016-07-31   -0.837771\n",
       "2016-08-31   -0.586460\n",
       "2016-09-30    0.695965\n",
       "2016-10-31   -0.753025\n",
       "2016-11-30   -0.387285\n",
       "2016-12-31    1.132365\n",
       "2017-01-31    0.710105\n",
       "2017-02-28    0.672330\n",
       "2017-03-31    1.051210\n",
       "2017-04-30    0.821921\n",
       "2017-05-31   -1.320570\n",
       "2017-06-30    0.223348\n",
       "2017-07-31    0.944915\n",
       "2017-08-31   -0.473830\n",
       "2017-09-30   -0.552590\n",
       "Freq: M, dtype: float64"
      ]
     },
     "execution_count": 56,
     "metadata": {},
     "output_type": "execute_result"
    }
   ],
   "source": [
    "aonao.mean(1)"
   ]
  },
  {
   "cell_type": "markdown",
   "metadata": {},
   "source": [
    "Or get everything at once:"
   ]
  },
  {
   "cell_type": "code",
   "execution_count": 125,
   "metadata": {
    "collapsed": false
   },
   "outputs": [
    {
     "data": {
      "text/html": [
       "<div style=\"max-height:1000px;max-width:1500px;overflow:auto;\">\n",
       "<table border=\"1\" class=\"dataframe\">\n",
       "  <thead>\n",
       "    <tr style=\"text-align: right;\">\n",
       "      <th></th>\n",
       "      <th>AO</th>\n",
       "      <th>NAO</th>\n",
       "    </tr>\n",
       "  </thead>\n",
       "  <tbody>\n",
       "    <tr>\n",
       "      <th>count</th>\n",
       "      <td> 758.000000</td>\n",
       "      <td> 758.000000</td>\n",
       "    </tr>\n",
       "    <tr>\n",
       "      <th>mean</th>\n",
       "      <td>  -0.133043</td>\n",
       "      <td>  -0.032465</td>\n",
       "    </tr>\n",
       "    <tr>\n",
       "      <th>std</th>\n",
       "      <td>   1.003774</td>\n",
       "      <td>   1.001887</td>\n",
       "    </tr>\n",
       "    <tr>\n",
       "      <th>min</th>\n",
       "      <td>  -4.265700</td>\n",
       "      <td>  -3.180000</td>\n",
       "    </tr>\n",
       "    <tr>\n",
       "      <th>25%</th>\n",
       "      <td>  -0.671770</td>\n",
       "      <td>  -0.767500</td>\n",
       "    </tr>\n",
       "    <tr>\n",
       "      <th>50%</th>\n",
       "      <td>  -0.058805</td>\n",
       "      <td>  -0.015000</td>\n",
       "    </tr>\n",
       "    <tr>\n",
       "      <th>75%</th>\n",
       "      <td>   0.463980</td>\n",
       "      <td>   0.660000</td>\n",
       "    </tr>\n",
       "    <tr>\n",
       "      <th>max</th>\n",
       "      <td>   3.495300</td>\n",
       "      <td>   3.040000</td>\n",
       "    </tr>\n",
       "  </tbody>\n",
       "</table>\n",
       "</div>"
      ],
      "text/plain": [
       "               AO         NAO\n",
       "count  758.000000  758.000000\n",
       "mean    -0.133043   -0.032465\n",
       "std      1.003774    1.001887\n",
       "min     -4.265700   -3.180000\n",
       "25%     -0.671770   -0.767500\n",
       "50%     -0.058805   -0.015000\n",
       "75%      0.463980    0.660000\n",
       "max      3.495300    3.040000"
      ]
     },
     "execution_count": 125,
     "metadata": {},
     "output_type": "execute_result"
    }
   ],
   "source": [
    "aonao.describe()"
   ]
  },
  {
   "cell_type": "markdown",
   "metadata": {},
   "source": [
    "## Resampling"
   ]
  },
  {
   "cell_type": "markdown",
   "metadata": {},
   "source": [
    "Pandas provide easy way to resample data to different time frequency. Two main parameters for resampling is time period you resemple to and the method that you use. By default the method is mean. Following example calculates annual ('A') mean:"
   ]
  },
  {
   "cell_type": "code",
   "execution_count": 349,
   "metadata": {
    "collapsed": false
   },
   "outputs": [
    {
     "data": {
      "text/plain": [
       "<matplotlib.axes.AxesSubplot at 0xda37f2c>"
      ]
     },
     "execution_count": 349,
     "metadata": {},
     "output_type": "execute_result"
    },
    {
     "data": {
      "image/png": "[encoded data removed]",
      "text/plain": [
       "<matplotlib.figure.Figure at 0xda467cc>"
      ]
     },
     "metadata": {},
     "output_type": "display_data"
    }
   ],
   "source": [
    "AO_mm = AO.resample(\"A\")\n",
    "AO_mm.plot(style='g--')"
   ]
  },
  {
   "cell_type": "code",
   "execution_count": 57,
   "metadata": {
    "ExecuteTime": {
     "end_time": "2017-10-24T09:18:48.772429",
     "start_time": "2017-10-24T09:18:48.653385"
    },
    "collapsed": true
   },
   "outputs": [],
   "source": [
    "??AO.resample"
   ]
  },
  {
   "cell_type": "markdown",
   "metadata": {},
   "source": [
    "median:"
   ]
  },
  {
   "cell_type": "code",
   "execution_count": 352,
   "metadata": {
    "collapsed": false
   },
   "outputs": [
    {
     "data": {
      "text/plain": [
       "<matplotlib.axes.AxesSubplot at 0xdf050cc>"
      ]
     },
     "execution_count": 352,
     "metadata": {},
     "output_type": "execute_result"
    },
    {
     "data": {
      "image/png": "[encoded data removed]",
      "text/plain": [
       "<matplotlib.figure.Figure at 0xdbffd4c>"
      ]
     },
     "metadata": {},
     "output_type": "display_data"
    }
   ],
   "source": [
    "AO_mm = AO.resample(\"A\", how='median')\n",
    "AO_mm.plot()"
   ]
  },
  {
   "cell_type": "markdown",
   "metadata": {},
   "source": [
    "You can use your methods for resampling, for example np.max (in this case we change resampling frequency to 3 years):"
   ]
  },
  {
   "cell_type": "code",
   "execution_count": 357,
   "metadata": {
    "collapsed": false
   },
   "outputs": [
    {
     "data": {
      "text/plain": [
       "<matplotlib.axes.AxesSubplot at 0xe7418ac>"
      ]
     },
     "execution_count": 357,
     "metadata": {},
     "output_type": "execute_result"
    },
    {
     "data": {
      "image/png": "[encoded data removed]",
      "text/plain": [
       "<matplotlib.figure.Figure at 0xe773f4c>"
      ]
     },
     "metadata": {},
     "output_type": "display_data"
    }
   ],
   "source": [
    "AO_mm = AO.resample(\"3A\", how=np.max)\n",
    "AO_mm.plot()"
   ]
  },
  {
   "cell_type": "markdown",
   "metadata": {},
   "source": [
    "You can specify several functions at once as a list:"
   ]
  },
  {
   "cell_type": "code",
   "execution_count": 360,
   "metadata": {
    "collapsed": false
   },
   "outputs": [
    {
     "data": {
      "text/plain": [
       "<matplotlib.axes.AxesSubplot at 0xe99a9ec>"
      ]
     },
     "execution_count": 360,
     "metadata": {},
     "output_type": "execute_result"
    },
    {
     "data": {
      "image/png": "[encoded data removed]",
      "text/plain": [
       "<matplotlib.figure.Figure at 0xeed63ec>"
      ]
     },
     "metadata": {},
     "output_type": "display_data"
    },
    {
     "data": {
      "image/png": "[encoded data removed]",
      "text/plain": [
       "<matplotlib.figure.Figure at 0xeb1716c>"
      ]
     },
     "metadata": {},
     "output_type": "display_data"
    }
   ],
   "source": [
    "AO_mm = AO.resample(\"A\", how=['mean', np.min, np.max])\n",
    "AO_mm['1900':'2020'].plot(subplots=True)\n",
    "AO_mm['1900':'2020'].plot()"
   ]
  },
  {
   "cell_type": "markdown",
   "metadata": {},
   "source": [
    "## Moving (rolling) statistics"
   ]
  },
  {
   "cell_type": "markdown",
   "metadata": {},
   "source": [
    "Pandas provide good collection of moving statistics."
   ]
  },
  {
   "cell_type": "markdown",
   "metadata": {},
   "source": [
    "Rolling mean:"
   ]
  },
  {
   "cell_type": "code",
   "execution_count": 371,
   "metadata": {
    "collapsed": false
   },
   "outputs": [
    {
     "data": {
      "text/plain": [
       "<matplotlib.axes.AxesSubplot at 0xfa78b8c>"
      ]
     },
     "execution_count": 371,
     "metadata": {},
     "output_type": "execute_result"
    },
    {
     "data": {
      "image/png": "[encoded data removed]",
      "text/plain": [
       "<matplotlib.figure.Figure at 0xfbcb9cc>"
      ]
     },
     "metadata": {},
     "output_type": "display_data"
    }
   ],
   "source": [
    "pd.rolling_mean(aonao, window=12).plot(style='-g')"
   ]
  },
  {
   "cell_type": "markdown",
   "metadata": {},
   "source": [
    "Rolling correlation:"
   ]
  },
  {
   "cell_type": "code",
   "execution_count": 377,
   "metadata": {
    "collapsed": false
   },
   "outputs": [
    {
     "data": {
      "text/plain": [
       "<matplotlib.axes.AxesSubplot at 0x1026808c>"
      ]
     },
     "execution_count": 377,
     "metadata": {},
     "output_type": "execute_result"
    },
    {
     "data": {
      "image/png": "[encoded data removed]",
      "text/plain": [
       "<matplotlib.figure.Figure at 0x103b49ac>"
      ]
     },
     "metadata": {},
     "output_type": "display_data"
    }
   ],
   "source": [
    "pd.rolling_corr(aonao.AO, aonao.NAO, window=120).plot(style='-g')"
   ]
  },
  {
   "cell_type": "markdown",
   "metadata": {},
   "source": [
    "By the way getting correlation coefficients for members of the Data Frame is as simple as:"
   ]
  },
  {
   "cell_type": "code",
   "execution_count": 379,
   "metadata": {
    "collapsed": false
   },
   "outputs": [
    {
     "data": {
      "text/html": [
       "<div style=\"max-height:1000px;max-width:1500px;overflow:auto;\">\n",
       "<table border=\"1\" class=\"dataframe\">\n",
       "  <thead>\n",
       "    <tr style=\"text-align: right;\">\n",
       "      <th></th>\n",
       "      <th>AO</th>\n",
       "      <th>NAO</th>\n",
       "    </tr>\n",
       "  </thead>\n",
       "  <tbody>\n",
       "    <tr>\n",
       "      <th>AO</th>\n",
       "      <td> 1.000000</td>\n",
       "      <td> 0.610255</td>\n",
       "    </tr>\n",
       "    <tr>\n",
       "      <th>NAO</th>\n",
       "      <td> 0.610255</td>\n",
       "      <td> 1.000000</td>\n",
       "    </tr>\n",
       "  </tbody>\n",
       "</table>\n",
       "</div>"
      ],
      "text/plain": [
       "           AO       NAO\n",
       "AO   1.000000  0.610255\n",
       "NAO  0.610255  1.000000"
      ]
     },
     "execution_count": 379,
     "metadata": {},
     "output_type": "execute_result"
    }
   ],
   "source": [
    "aonao.corr()"
   ]
  },
  {
   "cell_type": "markdown",
   "metadata": {},
   "source": [
    "That's it. I hope you at least get a rough impression of what pandas can do for you. Comments are very welcome (below). If you have intresting examples of pandas usage in Earth Science, we would be happy to put them on [EarthPy](http://earthpy.org)."
   ]
  },
  {
   "cell_type": "code",
   "execution_count": null,
   "metadata": {
    "collapsed": false
   },
   "outputs": [],
   "source": []
  }
 ],
 "metadata": {
  "Author": "Nikolay Koldunov",
  "Category": "Data processing",
  "Date": "2013-3-30",
  "Tags": "pandas, data analysis, visualization",
  "Title": "Time series analysis with pandas",
  "kernelspec": {
   "display_name": "Python 2",
   "language": "python",
   "name": "python2"
  },
  "language_info": {
   "codemirror_mode": {
    "name": "ipython",
    "version": 2
   },
   "file_extension": ".py",
   "mimetype": "text/x-python",
   "name": "python",
   "nbconvert_exporter": "python",
   "pygments_lexer": "ipython2",
   "version": "2.7.13"
  },
  "slug": "pandas-basics",
  "toc": {
   "toc_cell": true,
   "toc_number_sections": true,
   "toc_threshold": 6,
   "toc_window_display": true
  }
 },
 "nbformat": 4,
 "nbformat_minor": 0
}
