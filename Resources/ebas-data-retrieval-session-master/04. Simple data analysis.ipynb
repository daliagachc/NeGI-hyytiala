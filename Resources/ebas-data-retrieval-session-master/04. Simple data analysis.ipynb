{
 "cells": [
  {
   "cell_type": "markdown",
   "metadata": {},
   "source": [
    "<table style=\"float:left; border:none\">\n",
    "   <tr style=\"border:none; background-color: #ffffff\">\n",
    "       <td style=\"border:none\">\n",
    "           <a href=\"http://www.nilu.no/\">     \n",
    "           <img \n",
    "               src=\"http://www.nilu.no/Portals/0/Logo_transparent.png\" \n",
    "               style=\"width:100%\"\n",
    "           >\n",
    "           </a>    \n",
    "       </td>\n",
    "\n",
    "   </tr>\n",
    "</table>\n",
    "<div style=\"float:right;\"><h2>Retriving data from EBAS:</h2><h3>04. Simple data analysis</h3></div>"
   ]
  },
  {
   "cell_type": "markdown",
   "metadata": {
    "collapsed": true
   },
   "source": [
    "**We will now do some data analysis looking at greenhouse gases with solely anthropogenic source measured at the Zeppelin observatory.**\n",
    "**We will focus on the primary contributing CFC's, CFC-11, CFC-12, and CFC-113.**"
   ]
  },
  {
   "cell_type": "code",
   "execution_count": 1,
   "metadata": {},
   "outputs": [
    {
     "name": "stderr",
     "output_type": "stream",
     "text": [
      "/home/ror/anaconda2/lib/python2.7/site-packages/matplotlib/font_manager.py:273: UserWarning: Matplotlib is building the font cache using fc-list. This may take a moment.\n",
      "  warnings.warn('Matplotlib is building the font cache using fc-list. This may take a moment.')\n"
     ]
    }
   ],
   "source": [
    "from bokeh.io import output_notebook, show\n",
    "from bokeh.plotting import figure\n",
    "from netCDF4 import num2date\n",
    "from pydap.client import open_dods, open_url\n",
    "%matplotlib inline\n",
    "import matplotlib.pyplot as plt"
   ]
  },
  {
   "cell_type": "code",
   "execution_count": 2,
   "metadata": {},
   "outputs": [
    {
     "data": {
      "text/html": [
       "\n",
       "    <div class=\"bk-root\">\n",
       "        <a href=\"https://bokeh.pydata.org\" target=\"_blank\" class=\"bk-logo bk-logo-small bk-logo-notebook\"></a>\n",
       "        <span id=\"21b767ae-df19-4917-92db-115224f351d3\">Loading BokehJS ...</span>\n",
       "    </div>"
      ]
     },
     "metadata": {},
     "output_type": "display_data"
    },
    {
     "data": {
      "application/javascript": [
       "\n",
       "(function(root) {\n",
       "  function now() {\n",
       "    return new Date();\n",
       "  }\n",
       "\n",
       "  var force = true;\n",
       "\n",
       "  if (typeof (root._bokeh_onload_callbacks) === \"undefined\" || force === true) {\n",
       "    root._bokeh_onload_callbacks = [];\n",
       "    root._bokeh_is_loading = undefined;\n",
       "  }\n",
       "\n",
       "  var JS_MIME_TYPE = 'application/javascript';\n",
       "  var HTML_MIME_TYPE = 'text/html';\n",
       "  var EXEC_MIME_TYPE = 'application/vnd.bokehjs_exec.v0+json';\n",
       "  var CLASS_NAME = 'output_bokeh rendered_html';\n",
       "\n",
       "  /**\n",
       "   * Render data to the DOM node\n",
       "   */\n",
       "  function render(props, node) {\n",
       "    var script = document.createElement(\"script\");\n",
       "    node.appendChild(script);\n",
       "  }\n",
       "\n",
       "  /**\n",
       "   * Handle when an output is cleared or removed\n",
       "   */\n",
       "  function handleClearOutput(event, handle) {\n",
       "    var cell = handle.cell;\n",
       "\n",
       "    var id = cell.output_area._bokeh_element_id;\n",
       "    var server_id = cell.output_area._bokeh_server_id;\n",
       "    // Clean up Bokeh references\n",
       "    if (id !== undefined) {\n",
       "      Bokeh.index[id].model.document.clear();\n",
       "      delete Bokeh.index[id];\n",
       "    }\n",
       "\n",
       "    if (server_id !== undefined) {\n",
       "      // Clean up Bokeh references\n",
       "      var cmd = \"from bokeh.io.state import curstate; print(curstate().uuid_to_server['\" + server_id + \"'].get_sessions()[0].document.roots[0]._id)\";\n",
       "      cell.notebook.kernel.execute(cmd, {\n",
       "        iopub: {\n",
       "          output: function(msg) {\n",
       "            var element_id = msg.content.text.trim();\n",
       "            Bokeh.index[element_id].model.document.clear();\n",
       "            delete Bokeh.index[element_id];\n",
       "          }\n",
       "        }\n",
       "      });\n",
       "      // Destroy server and session\n",
       "      var cmd = \"import bokeh.io.notebook as ion; ion.destroy_server('\" + server_id + \"')\";\n",
       "      cell.notebook.kernel.execute(cmd);\n",
       "    }\n",
       "  }\n",
       "\n",
       "  /**\n",
       "   * Handle when a new output is added\n",
       "   */\n",
       "  function handleAddOutput(event, handle) {\n",
       "    var output_area = handle.output_area;\n",
       "    var output = handle.output;\n",
       "\n",
       "    // limit handleAddOutput to display_data with EXEC_MIME_TYPE content only\n",
       "    if ((output.output_type != \"display_data\") || (!output.data.hasOwnProperty(EXEC_MIME_TYPE))) {\n",
       "      return\n",
       "    }\n",
       "\n",
       "    var toinsert = output_area.element.find(`.${CLASS_NAME.split(' ')[0]}`);\n",
       "\n",
       "    if (output.metadata[EXEC_MIME_TYPE][\"id\"] !== undefined) {\n",
       "      toinsert[0].firstChild.textContent = output.data[JS_MIME_TYPE];\n",
       "      // store reference to embed id on output_area\n",
       "      output_area._bokeh_element_id = output.metadata[EXEC_MIME_TYPE][\"id\"];\n",
       "    }\n",
       "    if (output.metadata[EXEC_MIME_TYPE][\"server_id\"] !== undefined) {\n",
       "      var bk_div = document.createElement(\"div\");\n",
       "      bk_div.innerHTML = output.data[HTML_MIME_TYPE];\n",
       "      var script_attrs = bk_div.children[0].attributes;\n",
       "      for (var i = 0; i < script_attrs.length; i++) {\n",
       "        toinsert[0].firstChild.setAttribute(script_attrs[i].name, script_attrs[i].value);\n",
       "      }\n",
       "      // store reference to server id on output_area\n",
       "      output_area._bokeh_server_id = output.metadata[EXEC_MIME_TYPE][\"server_id\"];\n",
       "    }\n",
       "  }\n",
       "\n",
       "  function register_renderer(events, OutputArea) {\n",
       "\n",
       "    function append_mime(data, metadata, element) {\n",
       "      // create a DOM node to render to\n",
       "      var toinsert = this.create_output_subarea(\n",
       "        metadata,\n",
       "        CLASS_NAME,\n",
       "        EXEC_MIME_TYPE\n",
       "      );\n",
       "      this.keyboard_manager.register_events(toinsert);\n",
       "      // Render to node\n",
       "      var props = {data: data, metadata: metadata[EXEC_MIME_TYPE]};\n",
       "      render(props, toinsert[0]);\n",
       "      element.append(toinsert);\n",
       "      return toinsert\n",
       "    }\n",
       "\n",
       "    /* Handle when an output is cleared or removed */\n",
       "    events.on('clear_output.CodeCell', handleClearOutput);\n",
       "    events.on('delete.Cell', handleClearOutput);\n",
       "\n",
       "    /* Handle when a new output is added */\n",
       "    events.on('output_added.OutputArea', handleAddOutput);\n",
       "\n",
       "    /**\n",
       "     * Register the mime type and append_mime function with output_area\n",
       "     */\n",
       "    OutputArea.prototype.register_mime_type(EXEC_MIME_TYPE, append_mime, {\n",
       "      /* Is output safe? */\n",
       "      safe: true,\n",
       "      /* Index of renderer in `output_area.display_order` */\n",
       "      index: 0\n",
       "    });\n",
       "  }\n",
       "\n",
       "  // register the mime type if in Jupyter Notebook environment and previously unregistered\n",
       "  if (root.Jupyter !== undefined) {\n",
       "    var events = require('base/js/events');\n",
       "    var OutputArea = require('notebook/js/outputarea').OutputArea;\n",
       "\n",
       "    if (OutputArea.prototype.mime_types().indexOf(EXEC_MIME_TYPE) == -1) {\n",
       "      register_renderer(events, OutputArea);\n",
       "    }\n",
       "  }\n",
       "\n",
       "  \n",
       "  if (typeof (root._bokeh_timeout) === \"undefined\" || force === true) {\n",
       "    root._bokeh_timeout = Date.now() + 5000;\n",
       "    root._bokeh_failed_load = false;\n",
       "  }\n",
       "\n",
       "  var NB_LOAD_WARNING = {'data': {'text/html':\n",
       "     \"<div style='background-color: #fdd'>\\n\"+\n",
       "     \"<p>\\n\"+\n",
       "     \"BokehJS does not appear to have successfully loaded. If loading BokehJS from CDN, this \\n\"+\n",
       "     \"may be due to a slow or bad network connection. Possible fixes:\\n\"+\n",
       "     \"</p>\\n\"+\n",
       "     \"<ul>\\n\"+\n",
       "     \"<li>re-rerun `output_notebook()` to attempt to load from CDN again, or</li>\\n\"+\n",
       "     \"<li>use INLINE resources instead, as so:</li>\\n\"+\n",
       "     \"</ul>\\n\"+\n",
       "     \"<code>\\n\"+\n",
       "     \"from bokeh.resources import INLINE\\n\"+\n",
       "     \"output_notebook(resources=INLINE)\\n\"+\n",
       "     \"</code>\\n\"+\n",
       "     \"</div>\"}};\n",
       "\n",
       "  function display_loaded() {\n",
       "    var el = document.getElementById(\"21b767ae-df19-4917-92db-115224f351d3\");\n",
       "    if (el != null) {\n",
       "      el.textContent = \"BokehJS is loading...\";\n",
       "    }\n",
       "    if (root.Bokeh !== undefined) {\n",
       "      if (el != null) {\n",
       "        el.textContent = \"BokehJS \" + root.Bokeh.version + \" successfully loaded.\";\n",
       "      }\n",
       "    } else if (Date.now() < root._bokeh_timeout) {\n",
       "      setTimeout(display_loaded, 100)\n",
       "    }\n",
       "  }\n",
       "\n",
       "\n",
       "  function run_callbacks() {\n",
       "    try {\n",
       "      root._bokeh_onload_callbacks.forEach(function(callback) { callback() });\n",
       "    }\n",
       "    finally {\n",
       "      delete root._bokeh_onload_callbacks\n",
       "    }\n",
       "    console.info(\"Bokeh: all callbacks have finished\");\n",
       "  }\n",
       "\n",
       "  function load_libs(js_urls, callback) {\n",
       "    root._bokeh_onload_callbacks.push(callback);\n",
       "    if (root._bokeh_is_loading > 0) {\n",
       "      console.log(\"Bokeh: BokehJS is being loaded, scheduling callback at\", now());\n",
       "      return null;\n",
       "    }\n",
       "    if (js_urls == null || js_urls.length === 0) {\n",
       "      run_callbacks();\n",
       "      return null;\n",
       "    }\n",
       "    console.log(\"Bokeh: BokehJS not loaded, scheduling load and callback at\", now());\n",
       "    root._bokeh_is_loading = js_urls.length;\n",
       "    for (var i = 0; i < js_urls.length; i++) {\n",
       "      var url = js_urls[i];\n",
       "      var s = document.createElement('script');\n",
       "      s.src = url;\n",
       "      s.async = false;\n",
       "      s.onreadystatechange = s.onload = function() {\n",
       "        root._bokeh_is_loading--;\n",
       "        if (root._bokeh_is_loading === 0) {\n",
       "          console.log(\"Bokeh: all BokehJS libraries loaded\");\n",
       "          run_callbacks()\n",
       "        }\n",
       "      };\n",
       "      s.onerror = function() {\n",
       "        console.warn(\"failed to load library \" + url);\n",
       "      };\n",
       "      console.log(\"Bokeh: injecting script tag for BokehJS library: \", url);\n",
       "      document.getElementsByTagName(\"head\")[0].appendChild(s);\n",
       "    }\n",
       "  };var element = document.getElementById(\"21b767ae-df19-4917-92db-115224f351d3\");\n",
       "  if (element == null) {\n",
       "    console.log(\"Bokeh: ERROR: autoload.js configured with elementid '21b767ae-df19-4917-92db-115224f351d3' but no matching script tag was found. \")\n",
       "    return false;\n",
       "  }\n",
       "\n",
       "  var js_urls = [\"https://cdn.pydata.org/bokeh/release/bokeh-0.12.10.min.js\", \"https://cdn.pydata.org/bokeh/release/bokeh-widgets-0.12.10.min.js\", \"https://cdn.pydata.org/bokeh/release/bokeh-tables-0.12.10.min.js\", \"https://cdn.pydata.org/bokeh/release/bokeh-gl-0.12.10.min.js\"];\n",
       "\n",
       "  var inline_js = [\n",
       "    function(Bokeh) {\n",
       "      Bokeh.set_log_level(\"info\");\n",
       "    },\n",
       "    \n",
       "    function(Bokeh) {\n",
       "      \n",
       "    },\n",
       "    function(Bokeh) {\n",
       "      console.log(\"Bokeh: injecting CSS: https://cdn.pydata.org/bokeh/release/bokeh-0.12.10.min.css\");\n",
       "      Bokeh.embed.inject_css(\"https://cdn.pydata.org/bokeh/release/bokeh-0.12.10.min.css\");\n",
       "      console.log(\"Bokeh: injecting CSS: https://cdn.pydata.org/bokeh/release/bokeh-widgets-0.12.10.min.css\");\n",
       "      Bokeh.embed.inject_css(\"https://cdn.pydata.org/bokeh/release/bokeh-widgets-0.12.10.min.css\");\n",
       "      console.log(\"Bokeh: injecting CSS: https://cdn.pydata.org/bokeh/release/bokeh-tables-0.12.10.min.css\");\n",
       "      Bokeh.embed.inject_css(\"https://cdn.pydata.org/bokeh/release/bokeh-tables-0.12.10.min.css\");\n",
       "    }\n",
       "  ];\n",
       "\n",
       "  function run_inline_js() {\n",
       "    \n",
       "    if ((root.Bokeh !== undefined) || (force === true)) {\n",
       "      for (var i = 0; i < inline_js.length; i++) {\n",
       "        inline_js[i].call(root, root.Bokeh);\n",
       "      }if (force === true) {\n",
       "        display_loaded();\n",
       "      }} else if (Date.now() < root._bokeh_timeout) {\n",
       "      setTimeout(run_inline_js, 100);\n",
       "    } else if (!root._bokeh_failed_load) {\n",
       "      console.log(\"Bokeh: BokehJS failed to load within specified timeout.\");\n",
       "      root._bokeh_failed_load = true;\n",
       "    } else if (force !== true) {\n",
       "      var cell = $(document.getElementById(\"21b767ae-df19-4917-92db-115224f351d3\")).parents('.cell').data().cell;\n",
       "      cell.output_area.append_execute_result(NB_LOAD_WARNING)\n",
       "    }\n",
       "\n",
       "  }\n",
       "\n",
       "  if (root._bokeh_is_loading === 0) {\n",
       "    console.log(\"Bokeh: BokehJS loaded, going straight to plotting\");\n",
       "    run_inline_js();\n",
       "  } else {\n",
       "    load_libs(js_urls, function() {\n",
       "      console.log(\"Bokeh: BokehJS plotting callback run at\", now());\n",
       "      run_inline_js();\n",
       "    });\n",
       "  }\n",
       "}(window));"
      ],
      "application/vnd.bokehjs_load.v0+json": "\n(function(root) {\n  function now() {\n    return new Date();\n  }\n\n  var force = true;\n\n  if (typeof (root._bokeh_onload_callbacks) === \"undefined\" || force === true) {\n    root._bokeh_onload_callbacks = [];\n    root._bokeh_is_loading = undefined;\n  }\n\n  \n\n  \n  if (typeof (root._bokeh_timeout) === \"undefined\" || force === true) {\n    root._bokeh_timeout = Date.now() + 5000;\n    root._bokeh_failed_load = false;\n  }\n\n  var NB_LOAD_WARNING = {'data': {'text/html':\n     \"<div style='background-color: #fdd'>\\n\"+\n     \"<p>\\n\"+\n     \"BokehJS does not appear to have successfully loaded. If loading BokehJS from CDN, this \\n\"+\n     \"may be due to a slow or bad network connection. Possible fixes:\\n\"+\n     \"</p>\\n\"+\n     \"<ul>\\n\"+\n     \"<li>re-rerun `output_notebook()` to attempt to load from CDN again, or</li>\\n\"+\n     \"<li>use INLINE resources instead, as so:</li>\\n\"+\n     \"</ul>\\n\"+\n     \"<code>\\n\"+\n     \"from bokeh.resources import INLINE\\n\"+\n     \"output_notebook(resources=INLINE)\\n\"+\n     \"</code>\\n\"+\n     \"</div>\"}};\n\n  function display_loaded() {\n    var el = document.getElementById(\"21b767ae-df19-4917-92db-115224f351d3\");\n    if (el != null) {\n      el.textContent = \"BokehJS is loading...\";\n    }\n    if (root.Bokeh !== undefined) {\n      if (el != null) {\n        el.textContent = \"BokehJS \" + root.Bokeh.version + \" successfully loaded.\";\n      }\n    } else if (Date.now() < root._bokeh_timeout) {\n      setTimeout(display_loaded, 100)\n    }\n  }\n\n\n  function run_callbacks() {\n    try {\n      root._bokeh_onload_callbacks.forEach(function(callback) { callback() });\n    }\n    finally {\n      delete root._bokeh_onload_callbacks\n    }\n    console.info(\"Bokeh: all callbacks have finished\");\n  }\n\n  function load_libs(js_urls, callback) {\n    root._bokeh_onload_callbacks.push(callback);\n    if (root._bokeh_is_loading > 0) {\n      console.log(\"Bokeh: BokehJS is being loaded, scheduling callback at\", now());\n      return null;\n    }\n    if (js_urls == null || js_urls.length === 0) {\n      run_callbacks();\n      return null;\n    }\n    console.log(\"Bokeh: BokehJS not loaded, scheduling load and callback at\", now());\n    root._bokeh_is_loading = js_urls.length;\n    for (var i = 0; i < js_urls.length; i++) {\n      var url = js_urls[i];\n      var s = document.createElement('script');\n      s.src = url;\n      s.async = false;\n      s.onreadystatechange = s.onload = function() {\n        root._bokeh_is_loading--;\n        if (root._bokeh_is_loading === 0) {\n          console.log(\"Bokeh: all BokehJS libraries loaded\");\n          run_callbacks()\n        }\n      };\n      s.onerror = function() {\n        console.warn(\"failed to load library \" + url);\n      };\n      console.log(\"Bokeh: injecting script tag for BokehJS library: \", url);\n      document.getElementsByTagName(\"head\")[0].appendChild(s);\n    }\n  };var element = document.getElementById(\"21b767ae-df19-4917-92db-115224f351d3\");\n  if (element == null) {\n    console.log(\"Bokeh: ERROR: autoload.js configured with elementid '21b767ae-df19-4917-92db-115224f351d3' but no matching script tag was found. \")\n    return false;\n  }\n\n  var js_urls = [\"https://cdn.pydata.org/bokeh/release/bokeh-0.12.10.min.js\", \"https://cdn.pydata.org/bokeh/release/bokeh-widgets-0.12.10.min.js\", \"https://cdn.pydata.org/bokeh/release/bokeh-tables-0.12.10.min.js\", \"https://cdn.pydata.org/bokeh/release/bokeh-gl-0.12.10.min.js\"];\n\n  var inline_js = [\n    function(Bokeh) {\n      Bokeh.set_log_level(\"info\");\n    },\n    \n    function(Bokeh) {\n      \n    },\n    function(Bokeh) {\n      console.log(\"Bokeh: injecting CSS: https://cdn.pydata.org/bokeh/release/bokeh-0.12.10.min.css\");\n      Bokeh.embed.inject_css(\"https://cdn.pydata.org/bokeh/release/bokeh-0.12.10.min.css\");\n      console.log(\"Bokeh: injecting CSS: https://cdn.pydata.org/bokeh/release/bokeh-widgets-0.12.10.min.css\");\n      Bokeh.embed.inject_css(\"https://cdn.pydata.org/bokeh/release/bokeh-widgets-0.12.10.min.css\");\n      console.log(\"Bokeh: injecting CSS: https://cdn.pydata.org/bokeh/release/bokeh-tables-0.12.10.min.css\");\n      Bokeh.embed.inject_css(\"https://cdn.pydata.org/bokeh/release/bokeh-tables-0.12.10.min.css\");\n    }\n  ];\n\n  function run_inline_js() {\n    \n    if ((root.Bokeh !== undefined) || (force === true)) {\n      for (var i = 0; i < inline_js.length; i++) {\n        inline_js[i].call(root, root.Bokeh);\n      }if (force === true) {\n        display_loaded();\n      }} else if (Date.now() < root._bokeh_timeout) {\n      setTimeout(run_inline_js, 100);\n    } else if (!root._bokeh_failed_load) {\n      console.log(\"Bokeh: BokehJS failed to load within specified timeout.\");\n      root._bokeh_failed_load = true;\n    } else if (force !== true) {\n      var cell = $(document.getElementById(\"21b767ae-df19-4917-92db-115224f351d3\")).parents('.cell').data().cell;\n      cell.output_area.append_execute_result(NB_LOAD_WARNING)\n    }\n\n  }\n\n  if (root._bokeh_is_loading === 0) {\n    console.log(\"Bokeh: BokehJS loaded, going straight to plotting\");\n    run_inline_js();\n  } else {\n    load_libs(js_urls, function() {\n      console.log(\"Bokeh: BokehJS plotting callback run at\", now());\n      run_inline_js();\n    });\n  }\n}(window));"
     },
     "metadata": {},
     "output_type": "display_data"
    }
   ],
   "source": [
    "output_notebook()"
   ]
  },
  {
   "cell_type": "markdown",
   "metadata": {},
   "source": [
    "**First, let's have a look at the data**"
   ]
  },
  {
   "cell_type": "code",
   "execution_count": 3,
   "metadata": {},
   "outputs": [
    {
     "name": "stdout",
     "output_type": "stream",
     "text": [
      "['time', 'time_bounds', 'metadata_time', 'metadata_time_bounds', 'CFC-11_qc', 'CFC-11', 'CFC-11_ebasmetadata']\n",
      "['time', 'time_bounds', 'metadata_time', 'metadata_time_bounds', 'CFC-12', 'CFC-12_qc', 'CFC-12_ebasmetadata']\n",
      "['time', 'time_bounds', 'metadata_time', 'metadata_time_bounds', 'CFC-113_qc', 'CFC-113', 'CFC-113_ebasmetadata']\n"
     ]
    }
   ],
   "source": [
    "ds_cfc11 = open_dods('http://dev-ebas-pydap.nilu.no/NO0042G.online_gc.IMG.air.CFC-11.2h.NO01L_Medusa-19.NO01L_AGAGE.0.dods')\n",
    "ds_cfc12 = open_dods('http://dev-ebas-pydap.nilu.no/NO0042G.online_gc.IMG.air.CFC-12.2h.NO01L_Medusa-19.NO01L_AGAGE.0.dods')\n",
    "ds_cfc113 = open_dods('http://dev-ebas-pydap.nilu.no/NO0042G.online_gc.IMG.air.CFC-113.2h.NO01L_Medusa-19.NO01L_AGAGE.0.dods')\n",
    "\n",
    "print ds_cfc11.keys()\n",
    "print ds_cfc12.keys()\n",
    "print ds_cfc113.keys()"
   ]
  },
  {
   "cell_type": "markdown",
   "metadata": {},
   "source": [
    "**Let's append the data to variables**"
   ]
  },
  {
   "cell_type": "code",
   "execution_count": 4,
   "metadata": {
    "collapsed": true
   },
   "outputs": [],
   "source": [
    "cfc11 = ds_cfc11['CFC-11']\n",
    "cfc12 = ds_cfc12['CFC-12']\n",
    "cfc113 = ds_cfc113['CFC-113']\n",
    "time = num2date(cfc12.time.data,units='days since 1900-01-01 00:00:00',calendar='gregorian')"
   ]
  },
  {
   "cell_type": "markdown",
   "metadata": {},
   "source": [
    "**First we have to import pandas and orderder dict in order to create a data frame**"
   ]
  },
  {
   "cell_type": "code",
   "execution_count": 5,
   "metadata": {
    "collapsed": true
   },
   "outputs": [],
   "source": [
    "import pandas as pd\n",
    "from collections import OrderedDict"
   ]
  },
  {
   "cell_type": "markdown",
   "metadata": {},
   "source": [
    "**We now create a data frame for all of our CFC data (CFC-11, CFC-12, and CFC-113)**"
   ]
  },
  {
   "cell_type": "code",
   "execution_count": 6,
   "metadata": {
    "collapsed": true
   },
   "outputs": [],
   "source": [
    "data = OrderedDict([ ('Time', time),\n",
    "          ('cfc-11', cfc11['CFC-11']),\n",
    "          ('cfc-12',  cfc12['CFC-12']),\n",
    "          ('cfc-113', cfc113['CFC-113']) ] )\n",
    "df = pd.DataFrame.from_dict(data)\n",
    "\n",
    "#We set time as the index\n",
    "df.index = df['Time'] "
   ]
  },
  {
   "cell_type": "code",
   "execution_count": 7,
   "metadata": {},
   "outputs": [
    {
     "name": "stdout",
     "output_type": "stream",
     "text": [
      "                                   Time  cfc-11   cfc-12  cfc-113\n",
      "Time                                                             \n",
      "2010-09-01 14:31:00 2010-09-01 14:31:00     NaN      NaN      NaN\n",
      "2010-09-01 16:31:00 2010-09-01 16:31:00     NaN      NaN      NaN\n",
      "2010-09-01 21:55:00 2010-09-01 21:55:00     NaN      NaN   74.968\n",
      "2010-09-01 23:55:00 2010-09-01 23:55:00     NaN  533.662   75.008\n",
      "2010-09-02 01:55:00 2010-09-02 01:55:00     NaN  532.737   74.983\n",
      "                                   Time   cfc-11  cfc-12  cfc-113\n",
      "Time                                                             \n",
      "2016-12-31 11:15:00 2016-12-31 11:15:00  231.304     NaN   71.557\n",
      "2016-12-31 13:55:00 2016-12-31 13:55:00      NaN     NaN      NaN\n",
      "2016-12-31 16:35:00 2016-12-31 16:35:00  231.648     NaN   71.305\n",
      "2016-12-31 19:15:00 2016-12-31 19:15:00  231.570     NaN   71.363\n",
      "2016-12-31 21:55:00 2016-12-31 21:55:00      NaN     NaN      NaN\n"
     ]
    }
   ],
   "source": [
    "#Here it could be usefull to e.g. add flags a specific column, but we will leave that out for now\n",
    "#Here we have a pretty long times series\n",
    "print(df.head())\n",
    "print(df.tail())"
   ]
  },
  {
   "cell_type": "markdown",
   "metadata": {},
   "source": [
    "**First lets plot the data quickly (it makes use of the matplotlib API)**"
   ]
  },
  {
   "cell_type": "code",
   "execution_count": 8,
   "metadata": {},
   "outputs": [
    {
     "data": {
      "text/plain": [
       "<matplotlib.axes._subplots.AxesSubplot at 0x7fbdfae93750>"
      ]
     },
     "execution_count": 8,
     "metadata": {},
     "output_type": "execute_result"
    },
    {
     "data": {
      "image/png": "[encoded data removed]",
      "text/plain": [
       "<matplotlib.figure.Figure at 0x7fbdfcad2dd0>"
      ]
     },
     "metadata": {},
     "output_type": "display_data"
    }
   ],
   "source": [
    "df['cfc-11'].plot()"
   ]
  },
  {
   "cell_type": "markdown",
   "metadata": {},
   "source": [
    "**Now that we have our data frame, we could start to analyze our data**\n",
    "\n",
    "Information regarding basic statistics functionality for the pandas package could be found here: http://pandas.pydata.org/pandas-docs/stable/basics.html"
   ]
  },
  {
   "cell_type": "code",
   "execution_count": 304,
   "metadata": {},
   "outputs": [
    {
     "name": "stdout",
     "output_type": "stream",
     "text": [
      "242.563\n",
      "512.756\n",
      "9930\n"
     ]
    }
   ],
   "source": [
    "print(df['cfc-11'].max())\n",
    "print(df['cfc-12'].min())\n",
    "print(df['cfc-113'].count())"
   ]
  },
  {
   "cell_type": "markdown",
   "metadata": {},
   "source": [
    "**Let's resample the data and aggregate data by month**"
   ]
  },
  {
   "cell_type": "code",
   "execution_count": 312,
   "metadata": {},
   "outputs": [
    {
     "data": {
      "text/plain": [
       "<matplotlib.axes._subplots.AxesSubplot at 0x7fba727f0650>"
      ]
     },
     "execution_count": 312,
     "metadata": {},
     "output_type": "execute_result"
    },
    {
     "data": {
      "image/png": "[encoded data removed]",
      "text/plain": [
       "<matplotlib.figure.Figure at 0x7fba729cae50>"
      ]
     },
     "metadata": {},
     "output_type": "display_data"
    }
   ],
   "source": [
    "df_resample = df.resample('M').max()\n",
    "\n",
    "df_resample['cfc-11'].plot()"
   ]
  },
  {
   "cell_type": "markdown",
   "metadata": {},
   "source": [
    "**Okay, now let's have a look at some temperature data from the Zeppelin observatory**"
   ]
  },
  {
   "cell_type": "code",
   "execution_count": 317,
   "metadata": {
    "collapsed": true
   },
   "outputs": [],
   "source": [
    "ds_aws = open_dods('http://dev-ebas-pydap.nilu.no/NO0042G.aws.IMG.met.temperature.1h.NO01L_NO42_vaisala_15m.NO01L_platinum_resistance..dods')\n",
    "\n",
    "time = num2date(ds_aws.time.data,units='days since 1900-01-01 00:00:00',calendar='gregorian')\n",
    "\n",
    "#We append the data to a pandas data frame\n",
    "data = OrderedDict([ ('Time', time),\n",
    "          ('Temperature', ds_aws['temperature'].temperature) ] )\n",
    "df = pd.DataFrame.from_dict(data)"
   ]
  },
  {
   "cell_type": "code",
   "execution_count": 318,
   "metadata": {},
   "outputs": [
    {
     "name": "stdout",
     "output_type": "stream",
     "text": [
      "                 Time  Temperature\n",
      "0 2014-04-07 10:30:00        -13.6\n",
      "1 2014-04-07 11:30:00        -14.1\n",
      "2 2014-04-07 12:30:00        -14.2\n",
      "3 2014-04-07 13:30:00        -14.4\n",
      "4 2014-04-07 14:30:00        -14.5\n"
     ]
    }
   ],
   "source": [
    "print df.head()\n",
    "\n",
    "#We set time as the index\n",
    "df.index = df['Time'] "
   ]
  },
  {
   "cell_type": "markdown",
   "metadata": {},
   "source": [
    "**Let's do a quick plot to inspect the data**"
   ]
  },
  {
   "cell_type": "code",
   "execution_count": 319,
   "metadata": {},
   "outputs": [
    {
     "data": {
      "text/plain": [
       "<matplotlib.axes._subplots.AxesSubplot at 0x7fba72944690>"
      ]
     },
     "execution_count": 319,
     "metadata": {},
     "output_type": "execute_result"
    },
    {
     "data": {
      "image/png": "[encoded data removed]",
      "text/plain": [
       "<matplotlib.figure.Figure at 0x7fba726c2b50>"
      ]
     },
     "metadata": {},
     "output_type": "display_data"
    }
   ],
   "source": [
    "df.plot()"
   ]
  },
  {
   "cell_type": "markdown",
   "metadata": {},
   "source": [
    "**We Resample the data**"
   ]
  },
  {
   "cell_type": "code",
   "execution_count": 320,
   "metadata": {
    "collapsed": true
   },
   "outputs": [],
   "source": [
    "df_max = df.resample('M').max()\n",
    "df_min = df.resample('M').min()"
   ]
  },
  {
   "cell_type": "markdown",
   "metadata": {},
   "source": [
    "**We can now make a more interactive plot we Bokeh**\n",
    "\n",
    "We can also take a snapshot of the plot or parts of the plot, and download it as a png"
   ]
  },
  {
   "cell_type": "code",
   "execution_count": 326,
   "metadata": {},
   "outputs": [
    {
     "data": {
      "text/html": [
       "\n",
       "<div class=\"bk-root\">\n",
       "    <div class=\"bk-plotdiv\" id=\"bee6663f-c6c4-430b-b112-dabd03360ec3\"></div>\n",
       "</div>"
      ]
     },
     "metadata": {},
     "output_type": "display_data"
    },
    {
     "data": {
      "application/javascript": [
       "(function(root) {\n",
       "  function embed_document(root) {\n",
       "    var docs_json = {\"8346653e-bb2d-4055-973c-8536b9fd8dbf\":{\"roots\":{\"references\":[{\"attributes\":{\"months\":[0,2,4,6,8,10]},\"id\":\"f83fe993-c3f5-4324-b712-116acf80ca3c\",\"type\":\"MonthsTicker\"},{\"attributes\":{\"below\":[{\"id\":\"f4b5d4bf-d970-49c4-9d76-0ae45374ad07\",\"type\":\"DatetimeAxis\"}],\"left\":[{\"id\":\"5d4c5456-0656-4ea9-b7df-39b4c230f896\",\"type\":\"LinearAxis\"}],\"plot_height\":400,\"plot_width\":900,\"renderers\":[{\"id\":\"f4b5d4bf-d970-49c4-9d76-0ae45374ad07\",\"type\":\"DatetimeAxis\"},{\"id\":\"664fc600-f48f-4542-80f9-4e954ab4fa68\",\"type\":\"Grid\"},{\"id\":\"5d4c5456-0656-4ea9-b7df-39b4c230f896\",\"type\":\"LinearAxis\"},{\"id\":\"ce9b81c6-3b66-4e5e-8c71-627382881d10\",\"type\":\"Grid\"},{\"id\":\"cf01fe68-722a-48ea-aa66-3d736440a9ea\",\"type\":\"BoxAnnotation\"},{\"id\":\"6e53bdfa-24ab-4fac-9b0f-95b976327602\",\"type\":\"Legend\"},{\"id\":\"9417c662-e646-4c5c-a32b-ada2a5d0907e\",\"type\":\"GlyphRenderer\"},{\"id\":\"22a74cfb-2bcd-4ebb-8808-417f1426948f\",\"type\":\"GlyphRenderer\"}],\"title\":{\"id\":\"2ec21cca-207a-47be-b4d6-6bfe0a7e893e\",\"type\":\"Title\"},\"toolbar\":{\"id\":\"77d5e51a-2da6-4701-abf9-3aed1549bbef\",\"type\":\"Toolbar\"},\"x_range\":{\"id\":\"9e5f02dd-f2f8-465d-a62e-202556fb5f0d\",\"type\":\"DataRange1d\"},\"x_scale\":{\"id\":\"cbcb5f25-e36e-44ad-80f7-56119ca77e31\",\"type\":\"LinearScale\"},\"y_range\":{\"id\":\"770a8c9d-6611-4e36-8254-972fc5b2ef51\",\"type\":\"DataRange1d\"},\"y_scale\":{\"id\":\"311df84b-af17-40dd-aaa7-899cf6715606\",\"type\":\"LinearScale\"}},\"id\":\"9dee6461-70b6-4243-85f1-05f8cb49acad\",\"subtype\":\"Figure\",\"type\":\"Plot\"},{\"attributes\":{\"grid_line_alpha\":{\"value\":2},\"plot\":{\"id\":\"9dee6461-70b6-4243-85f1-05f8cb49acad\",\"subtype\":\"Figure\",\"type\":\"Plot\"},\"ticker\":{\"id\":\"bdb5f569-c84a-4026-9c91-d3b61b30e41d\",\"type\":\"DatetimeTicker\"}},\"id\":\"664fc600-f48f-4542-80f9-4e954ab4fa68\",\"type\":\"Grid\"},{\"attributes\":{},\"id\":\"79679db9-c293-4fa6-9aa4-054056d33bd2\",\"type\":\"ResetTool\"},{\"attributes\":{\"base\":60,\"mantissas\":[1,2,5,10,15,20,30],\"max_interval\":1800000.0,\"min_interval\":1000.0,\"num_minor_ticks\":0},\"id\":\"433df497-fd64-4bb1-a2e3-6a60484ff7b5\",\"type\":\"AdaptiveTicker\"},{\"attributes\":{\"callback\":null,\"column_names\":[\"y\",\"x\"],\"data\":{\"x\":{\"__ndarray__\":\"AACA5P5adEIAAMA2+WR0QgAAQCOhbnRCAACAdZt4dEIAAMDHlYJ0QgAAQLQ9jHRCAACABjiWdEIAAADz3590QgAAQEXaqXRCAACAl9SzdEIAAIC417x0QgAAwArSxnRCAABA93nQdEIAAIBJdNp0QgAAADYc5HRCAABAiBbudEIAAIDaEPh0QgAAAMe4AXVCAABAGbMLdUIAAMAFWxV1QgAAAFhVH3VCAABAqk8pdUIAAAAxpTJ1QgAAQIOfPHVCAADAb0dGdUIAAADCQVB1QgAAgK7pWXVCAADAAORjdUIAAABT3m11QgAAgD+Gd3VCAADAkYCBdUIAAEB+KIt1QgAAgNAilXVC\",\"dtype\":\"float64\",\"shape\":[33]},\"y\":{\"__ndarray__\":\"zczMzMzMMsDNzMzMzMwrwAAAAAAAABrAmpmZmZmZBcAAAAAAAAAQwJqZmZmZmSTAmpmZmZmZKcAAAAAAAAAzwM3MzMzMzDLAMzMzMzOzMcDNzMzMzEw6wDMzMzMzszTAzczMzMxMMcDNzMzMzMwlwM3MzMzMzBDAzczMzMzM7L8AAAAAAAAIwM3MzMzMzCHAZmZmZmZmLMAzMzMzMzMywM3MzMzMTDbAmpmZmZmZL8DNzMzMzEwwwDMzMzMzMzfAzczMzMzMM8DNzMzMzMwawAAAAAAAABrAzczMzMzM7L8AAAAAAAASwAAAAAAAABLAmpmZmZmZI8AAAAAAAAArwM3MzMzMTDbA\",\"dtype\":\"float64\",\"shape\":[33]}}},\"id\":\"a64151be-34bd-4061-aef3-27e25dec8a4a\",\"type\":\"ColumnDataSource\"},{\"attributes\":{\"axis_label\":\"Month\",\"formatter\":{\"id\":\"d0fedfc4-711a-43fd-aca6-a4aef7b78dff\",\"type\":\"DatetimeTickFormatter\"},\"plot\":{\"id\":\"9dee6461-70b6-4243-85f1-05f8cb49acad\",\"subtype\":\"Figure\",\"type\":\"Plot\"},\"ticker\":{\"id\":\"bdb5f569-c84a-4026-9c91-d3b61b30e41d\",\"type\":\"DatetimeTicker\"}},\"id\":\"f4b5d4bf-d970-49c4-9d76-0ae45374ad07\",\"type\":\"DatetimeAxis\"},{\"attributes\":{},\"id\":\"1b2c8c1e-2b08-45a2-ba40-e4d17f1590f6\",\"type\":\"HelpTool\"},{\"attributes\":{\"label\":{\"value\":\"monthly max\"},\"renderers\":[{\"id\":\"9417c662-e646-4c5c-a32b-ada2a5d0907e\",\"type\":\"GlyphRenderer\"}]},\"id\":\"36770601-21bb-47c6-9880-3e811d83f5a8\",\"type\":\"LegendItem\"},{\"attributes\":{\"days\":[1,15]},\"id\":\"0e6be688-4074-4096-bd2b-ba41547d63b7\",\"type\":\"DaysTicker\"},{\"attributes\":{\"callback\":null},\"id\":\"9e5f02dd-f2f8-465d-a62e-202556fb5f0d\",\"type\":\"DataRange1d\"},{\"attributes\":{\"months\":[0,4,8]},\"id\":\"bc85af33-835b-4c66-965c-cb29e949c338\",\"type\":\"MonthsTicker\"},{\"attributes\":{\"months\":[0,1,2,3,4,5,6,7,8,9,10,11]},\"id\":\"01189c53-1822-4ab9-ac9c-d4a8abaaa5b1\",\"type\":\"MonthsTicker\"},{\"attributes\":{},\"id\":\"ba24ddae-4da5-4f51-8d43-c2d692b31cad\",\"type\":\"YearsTicker\"},{\"attributes\":{\"click_policy\":\"hide\",\"items\":[{\"id\":\"36770601-21bb-47c6-9880-3e811d83f5a8\",\"type\":\"LegendItem\"},{\"id\":\"2a9e2358-1458-475c-ad02-03113cf413d9\",\"type\":\"LegendItem\"}],\"plot\":{\"id\":\"9dee6461-70b6-4243-85f1-05f8cb49acad\",\"subtype\":\"Figure\",\"type\":\"Plot\"}},\"id\":\"6e53bdfa-24ab-4fac-9b0f-95b976327602\",\"type\":\"Legend\"},{\"attributes\":{\"line_alpha\":{\"value\":0.8},\"line_color\":{\"value\":\"#8da0cb\"},\"line_width\":{\"value\":3},\"x\":{\"field\":\"x\"},\"y\":{\"field\":\"y\"}},\"id\":\"ed63f655-3303-42dd-83ce-046a23127b51\",\"type\":\"Line\"},{\"attributes\":{\"line_alpha\":{\"value\":0.1},\"line_color\":{\"value\":\"#1f77b4\"},\"line_width\":{\"value\":3},\"x\":{\"field\":\"x\"},\"y\":{\"field\":\"y\"}},\"id\":\"09c6bf38-9116-4790-8e64-42d4bd966559\",\"type\":\"Line\"},{\"attributes\":{},\"id\":\"cbcb5f25-e36e-44ad-80f7-56119ca77e31\",\"type\":\"LinearScale\"},{\"attributes\":{\"months\":[0,6]},\"id\":\"7864bcdd-5a4c-462c-afd4-50c0725602e6\",\"type\":\"MonthsTicker\"},{\"attributes\":{\"band_fill_alpha\":{\"value\":0.1},\"band_fill_color\":{\"value\":\"olive\"},\"dimension\":1,\"grid_line_alpha\":{\"value\":2},\"plot\":{\"id\":\"9dee6461-70b6-4243-85f1-05f8cb49acad\",\"subtype\":\"Figure\",\"type\":\"Plot\"},\"ticker\":{\"id\":\"8e1471d1-e556-431c-8aed-96effa62abb3\",\"type\":\"BasicTicker\"}},\"id\":\"ce9b81c6-3b66-4e5e-8c71-627382881d10\",\"type\":\"Grid\"},{\"attributes\":{\"callback\":null,\"column_names\":[\"y\",\"x\"],\"data\":{\"x\":{\"__ndarray__\":\"AACA5P5adEIAAMA2+WR0QgAAQCOhbnRCAACAdZt4dEIAAMDHlYJ0QgAAQLQ9jHRCAACABjiWdEIAAADz3590QgAAQEXaqXRCAACAl9SzdEIAAIC417x0QgAAwArSxnRCAABA93nQdEIAAIBJdNp0QgAAADYc5HRCAABAiBbudEIAAIDaEPh0QgAAAMe4AXVCAABAGbMLdUIAAMAFWxV1QgAAAFhVH3VCAABAqk8pdUIAAAAxpTJ1QgAAQIOfPHVCAADAb0dGdUIAAADCQVB1QgAAgK7pWXVCAADAAORjdUIAAABT3m11QgAAgD+Gd3VCAADAkYCBdUIAAEB+KIt1QgAAgNAilXVC\",\"dtype\":\"float64\",\"shape\":[33]},\"y\":{\"__ndarray__\":\"zczMzMzMDMCamZmZmZm5PwAAAAAAABhAzczMzMzMIEDNzMzMzMwaQGZmZmZmZhJAMzMzMzMzEUAzMzMzMzPjPwAAAAAAAADAMzMzMzMz87+amZmZmZnZPwAAAAAAAOC/mpmZmZmZyT/NzMzMzMwEQM3MzMzMzBRAzczMzMzMK0AAAAAAAAAtQJqZmZmZmRVAZmZmZmZmEEAAAAAAAAD4P2ZmZmZmZgZAMzMzMzMz8z9mZmZmZmb2vwAAAAAAAAAAmpmZmZmZAUBmZmZmZmYCQDMzMzMzMxlAAAAAAAAAJUBmZmZmZmYhQJqZmZmZmRtAMzMzMzMzD0AzMzMzMzP7P5qZmZmZmdk/\",\"dtype\":\"float64\",\"shape\":[33]}}},\"id\":\"9b3e6572-e4a4-454a-ad51-26e11f2d4a6d\",\"type\":\"ColumnDataSource\"},{\"attributes\":{\"callback\":null},\"id\":\"770a8c9d-6611-4e36-8254-972fc5b2ef51\",\"type\":\"DataRange1d\"},{\"attributes\":{\"source\":{\"id\":\"9b3e6572-e4a4-454a-ad51-26e11f2d4a6d\",\"type\":\"ColumnDataSource\"}},\"id\":\"e496db9a-c894-4116-9400-9bdb07bd7ba7\",\"type\":\"CDSView\"},{\"attributes\":{\"source\":{\"id\":\"a64151be-34bd-4061-aef3-27e25dec8a4a\",\"type\":\"ColumnDataSource\"}},\"id\":\"1743832a-326f-48ed-a4f3-c143d457ffaa\",\"type\":\"CDSView\"},{\"attributes\":{\"active_drag\":\"auto\",\"active_inspect\":\"auto\",\"active_scroll\":\"auto\",\"active_tap\":\"auto\",\"tools\":[{\"id\":\"d0f9a371-27a3-4d4a-ae59-a5bcbe64d595\",\"type\":\"PanTool\"},{\"id\":\"d8dbe5cd-4ead-4302-ad69-0b4b945e4157\",\"type\":\"WheelZoomTool\"},{\"id\":\"8e1456d3-ec53-4c01-b691-42cf4b467086\",\"type\":\"BoxZoomTool\"},{\"id\":\"65da6585-c658-462f-a635-14e40ec0d650\",\"type\":\"SaveTool\"},{\"id\":\"79679db9-c293-4fa6-9aa4-054056d33bd2\",\"type\":\"ResetTool\"},{\"id\":\"1b2c8c1e-2b08-45a2-ba40-e4d17f1590f6\",\"type\":\"HelpTool\"}]},\"id\":\"77d5e51a-2da6-4701-abf9-3aed1549bbef\",\"type\":\"Toolbar\"},{\"attributes\":{},\"id\":\"5a2f04c8-41d2-479a-bb6b-d77490f6413f\",\"type\":\"BasicTickFormatter\"},{\"attributes\":{\"days\":[1,2,3,4,5,6,7,8,9,10,11,12,13,14,15,16,17,18,19,20,21,22,23,24,25,26,27,28,29,30,31]},\"id\":\"acabb74d-fab6-4e59-8d29-5917ee3ef44c\",\"type\":\"DaysTicker\"},{\"attributes\":{\"data_source\":{\"id\":\"9b3e6572-e4a4-454a-ad51-26e11f2d4a6d\",\"type\":\"ColumnDataSource\"},\"glyph\":{\"id\":\"ca19e5c0-c290-4c49-a261-a06511b9ecda\",\"type\":\"Line\"},\"hover_glyph\":null,\"muted_glyph\":null,\"nonselection_glyph\":{\"id\":\"61f98742-8e7a-448d-8b53-e2f91bd7bd50\",\"type\":\"Line\"},\"selection_glyph\":null,\"view\":{\"id\":\"e496db9a-c894-4116-9400-9bdb07bd7ba7\",\"type\":\"CDSView\"}},\"id\":\"9417c662-e646-4c5c-a32b-ada2a5d0907e\",\"type\":\"GlyphRenderer\"},{\"attributes\":{},\"id\":\"8e1471d1-e556-431c-8aed-96effa62abb3\",\"type\":\"BasicTicker\"},{\"attributes\":{\"base\":24,\"mantissas\":[1,2,4,6,8,12],\"max_interval\":43200000.0,\"min_interval\":3600000.0,\"num_minor_ticks\":0},\"id\":\"b5605760-fd29-41d3-b2b7-602210d72a7c\",\"type\":\"AdaptiveTicker\"},{\"attributes\":{\"days\":[1,4,7,10,13,16,19,22,25,28]},\"id\":\"dc1606cc-be5c-4a2d-8f26-c6ff5d873413\",\"type\":\"DaysTicker\"},{\"attributes\":{\"mantissas\":[1,2,5],\"max_interval\":500.0,\"num_minor_ticks\":0},\"id\":\"04dc0afa-a41e-4c46-bffc-12647833e830\",\"type\":\"AdaptiveTicker\"},{\"attributes\":{\"overlay\":{\"id\":\"cf01fe68-722a-48ea-aa66-3d736440a9ea\",\"type\":\"BoxAnnotation\"}},\"id\":\"8e1456d3-ec53-4c01-b691-42cf4b467086\",\"type\":\"BoxZoomTool\"},{\"attributes\":{\"plot\":null,\"text\":\"Temperature 2016 at Zeppelin\"},\"id\":\"2ec21cca-207a-47be-b4d6-6bfe0a7e893e\",\"type\":\"Title\"},{\"attributes\":{},\"id\":\"311df84b-af17-40dd-aaa7-899cf6715606\",\"type\":\"LinearScale\"},{\"attributes\":{},\"id\":\"d8dbe5cd-4ead-4302-ad69-0b4b945e4157\",\"type\":\"WheelZoomTool\"},{\"attributes\":{\"label\":{\"value\":\"monthly min\"},\"renderers\":[{\"id\":\"22a74cfb-2bcd-4ebb-8808-417f1426948f\",\"type\":\"GlyphRenderer\"}]},\"id\":\"2a9e2358-1458-475c-ad02-03113cf413d9\",\"type\":\"LegendItem\"},{\"attributes\":{},\"id\":\"65da6585-c658-462f-a635-14e40ec0d650\",\"type\":\"SaveTool\"},{\"attributes\":{\"line_alpha\":{\"value\":0.8},\"line_color\":{\"value\":\"#fc8d62\"},\"line_width\":{\"value\":3},\"x\":{\"field\":\"x\"},\"y\":{\"field\":\"y\"}},\"id\":\"ca19e5c0-c290-4c49-a261-a06511b9ecda\",\"type\":\"Line\"},{\"attributes\":{\"data_source\":{\"id\":\"a64151be-34bd-4061-aef3-27e25dec8a4a\",\"type\":\"ColumnDataSource\"},\"glyph\":{\"id\":\"ed63f655-3303-42dd-83ce-046a23127b51\",\"type\":\"Line\"},\"hover_glyph\":null,\"muted_glyph\":null,\"nonselection_glyph\":{\"id\":\"09c6bf38-9116-4790-8e64-42d4bd966559\",\"type\":\"Line\"},\"selection_glyph\":null,\"view\":{\"id\":\"1743832a-326f-48ed-a4f3-c143d457ffaa\",\"type\":\"CDSView\"}},\"id\":\"22a74cfb-2bcd-4ebb-8808-417f1426948f\",\"type\":\"GlyphRenderer\"},{\"attributes\":{\"line_alpha\":{\"value\":0.1},\"line_color\":{\"value\":\"#1f77b4\"},\"line_width\":{\"value\":3},\"x\":{\"field\":\"x\"},\"y\":{\"field\":\"y\"}},\"id\":\"61f98742-8e7a-448d-8b53-e2f91bd7bd50\",\"type\":\"Line\"},{\"attributes\":{},\"id\":\"d0fedfc4-711a-43fd-aca6-a4aef7b78dff\",\"type\":\"DatetimeTickFormatter\"},{\"attributes\":{\"bottom_units\":\"screen\",\"fill_alpha\":{\"value\":0.5},\"fill_color\":{\"value\":\"lightgrey\"},\"left_units\":\"screen\",\"level\":\"overlay\",\"line_alpha\":{\"value\":1.0},\"line_color\":{\"value\":\"black\"},\"line_dash\":[4,4],\"line_width\":{\"value\":2},\"plot\":null,\"render_mode\":\"css\",\"right_units\":\"screen\",\"top_units\":\"screen\"},\"id\":\"cf01fe68-722a-48ea-aa66-3d736440a9ea\",\"type\":\"BoxAnnotation\"},{\"attributes\":{\"axis_label\":\"Temperature (Degrees C)\",\"formatter\":{\"id\":\"5a2f04c8-41d2-479a-bb6b-d77490f6413f\",\"type\":\"BasicTickFormatter\"},\"plot\":{\"id\":\"9dee6461-70b6-4243-85f1-05f8cb49acad\",\"subtype\":\"Figure\",\"type\":\"Plot\"},\"ticker\":{\"id\":\"8e1471d1-e556-431c-8aed-96effa62abb3\",\"type\":\"BasicTicker\"}},\"id\":\"5d4c5456-0656-4ea9-b7df-39b4c230f896\",\"type\":\"LinearAxis\"},{\"attributes\":{},\"id\":\"d0f9a371-27a3-4d4a-ae59-a5bcbe64d595\",\"type\":\"PanTool\"},{\"attributes\":{\"num_minor_ticks\":5,\"tickers\":[{\"id\":\"04dc0afa-a41e-4c46-bffc-12647833e830\",\"type\":\"AdaptiveTicker\"},{\"id\":\"433df497-fd64-4bb1-a2e3-6a60484ff7b5\",\"type\":\"AdaptiveTicker\"},{\"id\":\"b5605760-fd29-41d3-b2b7-602210d72a7c\",\"type\":\"AdaptiveTicker\"},{\"id\":\"acabb74d-fab6-4e59-8d29-5917ee3ef44c\",\"type\":\"DaysTicker\"},{\"id\":\"dc1606cc-be5c-4a2d-8f26-c6ff5d873413\",\"type\":\"DaysTicker\"},{\"id\":\"6c1f8d46-6a37-4d39-acd2-8147150486fa\",\"type\":\"DaysTicker\"},{\"id\":\"0e6be688-4074-4096-bd2b-ba41547d63b7\",\"type\":\"DaysTicker\"},{\"id\":\"01189c53-1822-4ab9-ac9c-d4a8abaaa5b1\",\"type\":\"MonthsTicker\"},{\"id\":\"f83fe993-c3f5-4324-b712-116acf80ca3c\",\"type\":\"MonthsTicker\"},{\"id\":\"bc85af33-835b-4c66-965c-cb29e949c338\",\"type\":\"MonthsTicker\"},{\"id\":\"7864bcdd-5a4c-462c-afd4-50c0725602e6\",\"type\":\"MonthsTicker\"},{\"id\":\"ba24ddae-4da5-4f51-8d43-c2d692b31cad\",\"type\":\"YearsTicker\"}]},\"id\":\"bdb5f569-c84a-4026-9c91-d3b61b30e41d\",\"type\":\"DatetimeTicker\"},{\"attributes\":{\"days\":[1,8,15,22]},\"id\":\"6c1f8d46-6a37-4d39-acd2-8147150486fa\",\"type\":\"DaysTicker\"}],\"root_ids\":[\"9dee6461-70b6-4243-85f1-05f8cb49acad\"]},\"title\":\"Bokeh Application\",\"version\":\"0.12.10\"}};\n",
       "    var render_items = [{\"docid\":\"8346653e-bb2d-4055-973c-8536b9fd8dbf\",\"elementid\":\"bee6663f-c6c4-430b-b112-dabd03360ec3\",\"modelid\":\"9dee6461-70b6-4243-85f1-05f8cb49acad\"}];\n",
       "\n",
       "    root.Bokeh.embed.embed_items(docs_json, render_items);\n",
       "  }\n",
       "\n",
       "  if (root.Bokeh !== undefined) {\n",
       "    embed_document(root);\n",
       "  } else {\n",
       "    var attempts = 0;\n",
       "    var timer = setInterval(function(root) {\n",
       "      if (root.Bokeh !== undefined) {\n",
       "        embed_document(root);\n",
       "        clearInterval(timer);\n",
       "      }\n",
       "      attempts++;\n",
       "      if (attempts > 100) {\n",
       "        console.log(\"Bokeh: ERROR: Unable to embed document because BokehJS library is missing\")\n",
       "        clearInterval(timer);\n",
       "      }\n",
       "    }, 10, root)\n",
       "  }\n",
       "})(window);"
      ],
      "application/vnd.bokehjs_exec.v0+json": ""
     },
     "metadata": {
      "application/vnd.bokehjs_exec.v0+json": {
       "id": "9dee6461-70b6-4243-85f1-05f8cb49acad"
      }
     },
     "output_type": "display_data"
    }
   ],
   "source": [
    "from bokeh.models import HoverTool\n",
    "\n",
    "p = figure(plot_width=900, plot_height=400, x_axis_type=\"datetime\", title=\"Temperature 2016 at Zeppelin\")\n",
    "\n",
    "p.grid.grid_line_alpha = 2\n",
    "p.xaxis.axis_label = 'Month'\n",
    "p.yaxis.axis_label = 'Temperature (Degrees C)'\n",
    "p.ygrid.band_fill_color = \"olive\"\n",
    "p.ygrid.band_fill_alpha = 0.1\n",
    "\n",
    "p.line(df_max.index,df_max['Temperature'], legend='monthly max', line_width=3, line_alpha=0.8, color='#fc8d62')\n",
    "\n",
    "p.line(df_min.index,df_min['Temperature'], legend='monthly min', line_width=3, line_alpha=0.8, color='#8da0cb')\n",
    "\n",
    "p.legend.location = \"top_right\"\n",
    "p.legend.click_policy=\"hide\"\n",
    "\n",
    "show(p)"
   ]
  },
  {
   "cell_type": "markdown",
   "metadata": {},
   "source": [
    "**We can also easily download our dataproducts to a csv file**"
   ]
  },
  {
   "cell_type": "code",
   "execution_count": 331,
   "metadata": {
    "collapsed": true
   },
   "outputs": [],
   "source": [
    "filename='monthly_max_zeppelin.txt'\n",
    "df_max.to_csv(filename, sep=',', encoding='utf-8')"
   ]
  }
 ],
 "metadata": {
  "kernelspec": {
   "display_name": "Python 2",
   "language": "python",
   "name": "python2"
  },
  "language_info": {
   "codemirror_mode": {
    "name": "ipython",
    "version": 2
   },
   "file_extension": ".py",
   "mimetype": "text/x-python",
   "name": "python",
   "nbconvert_exporter": "python",
   "pygments_lexer": "ipython2",
   "version": "2.7.13"
  }
 },
 "nbformat": 4,
 "nbformat_minor": 1
}
