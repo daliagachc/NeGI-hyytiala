{
 "cells": [
  {
   "cell_type": "markdown",
   "metadata": {},
   "source": [
    "<table style=\"float:left; border:none\">\n",
    "   <tr style=\"border:none; background-color: #ffffff\">\n",
    "       <td style=\"border:none\">\n",
    "           <a href=\"http://www.nilu.no/\">     \n",
    "           <img \n",
    "               src=\"http://www.nilu.no/Portals/0/Logo_transparent.png\" \n",
    "               style=\"width:100%\"\n",
    "           >\n",
    "           </a>    \n",
    "       </td>\n",
    "\n",
    "   </tr>\n",
    "</table>\n",
    "<div style=\"float:right;\"><h2>Retriving data from EBAS:</h2><h3>01. Introduction and Setup</h3></div>"
   ]
  },
  {
   "cell_type": "markdown",
   "metadata": {},
   "source": [
    "# Tutorial overview\n",
    "\n",
    "* First we will take a look at what you need\n",
    "* Then we will do a quick basic example\n",
    "* Before we work with Aerosol Optical Depth data\n",
    "* Carbon dioxide and methane\n",
    "* Do some simple data analyis \n",
    "* Before we look at some multidimensional Aerosol Particle Size distribution data\n",
    "* Please download the notebooks\n",
    "* If you want feedback or help, you could use the issue tracker on GitHub or you could do a pull request back to the repository\n",
    "* Read the docs for the modules, Google and look at stackoverflow"
   ]
  },
  {
   "cell_type": "markdown",
   "metadata": {},
   "source": [
    "# What do you need?"
   ]
  },
  {
   "cell_type": "markdown",
   "metadata": {},
   "source": [
    "* Python (https://www.python.org/)\n",
    "* PyDap (http://pydap.readthedocs.io/en/latest/client.html)\n",
    "* Bokeh (https://bokeh.pydata.org/en/latest/)\n",
    "* Pandas (http://pandas.pydata.org/pandas-docs/stable/)\n",
    "* Matplotlib (https://matplotlib.org/)\n",
    "* Numpy (http://www.numpy.org/)\n",
    "\n",
    "**The easiest approach to getting started should be to download conda:**\n",
    "\n",
    "https://conda.io/docs/index.html\n",
    "\n",
    "https://conda.io/docs/user-guide/install/index.html\n"
   ]
  },
  {
   "cell_type": "markdown",
   "metadata": {},
   "source": [
    "# Documentation and usefull information"
   ]
  },
  {
   "cell_type": "markdown",
   "metadata": {},
   "source": [
    "* Background information: http://www.miljodirektoratet.no/Documents/publikasjoner/M694/M694.pdf\n",
    "* OPeNDAP documentation: http://docs.opendap.org/index.php/UserGuideOPeNDAPMessages\n",
    "* Our metadata server: http://ebasoai.nilu.no/oai?verb=Identify\n",
    "* EBAS I/O: https://git.nilu.no/ebas/ebas-io/wikis/home\n",
    "* GitHub repository: https://github.com/richard-olav/ebas-data-retrieval-session\n",
    "* Direct link to the issue tracker: https://github.com/richard-olav/ebas-data-retrieval-session/issues\n",
    "* EBAS web portal: http://ebas.nilu.no/\n",
    "* Templates overview (especially usefull for understanding the metadata): http://ebas-submit.nilu.no/\n",
    "* For finding a color scheme http://colorbrewer2.org"
   ]
  }
 ],
 "metadata": {
  "kernelspec": {
   "display_name": "Python 2",
   "language": "python",
   "name": "python2"
  },
  "language_info": {
   "codemirror_mode": {
    "name": "ipython",
    "version": 2
   },
   "file_extension": ".py",
   "mimetype": "text/x-python",
   "name": "python",
   "nbconvert_exporter": "python",
   "pygments_lexer": "ipython2",
   "version": "2.7.13"
  }
 },
 "nbformat": 4,
 "nbformat_minor": 1
}
