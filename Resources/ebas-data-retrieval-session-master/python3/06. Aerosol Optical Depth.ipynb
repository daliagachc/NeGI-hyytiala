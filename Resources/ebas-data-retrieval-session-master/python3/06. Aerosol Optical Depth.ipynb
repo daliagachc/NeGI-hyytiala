{
 "cells": [
  {
   "cell_type": "code",
   "execution_count": null,
   "metadata": {
    "collapsed": true
   },
   "outputs": [],
   "source": [
    "from bokeh.io import output_notebook, show\n",
    "from bokeh.plotting import figure\n",
    "from netCDF4 import num2date\n",
    "from pydap.client import open_dods, open_url"
   ]
  },
  {
   "cell_type": "code",
   "execution_count": null,
   "metadata": {
    "collapsed": true
   },
   "outputs": [],
   "source": [
    "output_notebook()"
   ]
  },
  {
   "cell_type": "markdown",
   "metadata": {},
   "source": [
    "**Let's have a look at whats available**"
   ]
  },
  {
   "cell_type": "code",
   "execution_count": null,
   "metadata": {
    "collapsed": true
   },
   "outputs": [],
   "source": [
    "ds = open_dods('http://dev-ebas-pydap.nilu.no/NO0057R.sun_tracking_filter_radiometer.IMG.aerosol.aerosol_optical_depth.1h.CH04L_PMOD-WRC_PFR-N_NYA.CH04L_optical_transmission.2.dods')\n",
    "\n",
    "keys = list(ds.keys())\n",
    "\n",
    "print(keys)"
   ]
  },
  {
   "cell_type": "markdown",
   "metadata": {},
   "source": [
    "**Let's plot the data**"
   ]
  },
  {
   "cell_type": "code",
   "execution_count": 1,
   "metadata": {},
   "outputs": [
    {
     "ename": "NameError",
     "evalue": "name 'ds' is not defined",
     "output_type": "error",
     "traceback": [
      "\u001b[0;31m---------------------------------------------------------------------------\u001b[0m",
      "\u001b[0;31mNameError\u001b[0m                                 Traceback (most recent call last)",
      "\u001b[0;32m<ipython-input-1-5a28e64eb025>\u001b[0m in \u001b[0;36m<module>\u001b[0;34m()\u001b[0m\n\u001b[1;32m      1\u001b[0m \u001b[0;31m# append data to variables\u001b[0m\u001b[0;34m\u001b[0m\u001b[0;34m\u001b[0m\u001b[0m\n\u001b[1;32m      2\u001b[0m \u001b[0;34m\u001b[0m\u001b[0m\n\u001b[0;32m----> 3\u001b[0;31m \u001b[0maerosol_optical_depth\u001b[0m \u001b[0;34m=\u001b[0m \u001b[0mds\u001b[0m\u001b[0;34m[\u001b[0m\u001b[0;34m'aerosol_optical_depth_amean'\u001b[0m\u001b[0;34m]\u001b[0m\u001b[0;34m\u001b[0m\u001b[0m\n\u001b[0m\u001b[1;32m      4\u001b[0m \u001b[0;31m# Take from numpy array to regular array\u001b[0m\u001b[0;34m\u001b[0m\u001b[0;34m\u001b[0m\u001b[0m\n\u001b[1;32m      5\u001b[0m \u001b[0;34m\u001b[0m\u001b[0m\n",
      "\u001b[0;31mNameError\u001b[0m: name 'ds' is not defined"
     ]
    }
   ],
   "source": [
    "# append data to variables\n",
    "\n",
    "aerosol_optical_depth = ds['aerosol_optical_depth_amean']\n",
    "# Take from numpy array to regular array\n",
    "\n",
    "#Here we ge the metadata for each wavelength\n",
    "\n",
    "# Fetch metadata\n",
    "print(ds.aerosol_optical_depth_amean_ebasmetadata.keys)\n",
    "\n",
    "#Get wavelengths for labels\n",
    "print(ds.aerosol_optical_depth_median_ebasmetadata.Wavelength.data)\n",
    "\n",
    "\n",
    "y = aerosol_optical_depth.data[0]\n",
    "\n",
    "# Checking the length of the variables\n",
    "# Y contains 4 elements, one for each wavelength\n",
    "print(len(y))\n",
    "print(len(x))\n",
    "\n",
    "\n",
    "x = num2date(aerosol_optical_depth.time.data,units='days since 1900-01-01 00:00:00',calendar='gregorian')\n",
    "\n",
    "p = figure(plot_width=900, plot_height=500, title = \"Aerosol Optical Depth Arithmetic Mean (for instrument type sun_tracking_filter_radiometer)\",x_axis_type=\"datetime\")\n",
    "\n",
    "#You can use colorbrewer to get a nice color scheme\n",
    "#http://colorbrewer2.org/#type=qualitative&scheme=Accent&n=4\n",
    "\n",
    "p.circle(x, y[0], fill_color=\"#a6611a\", line_color=None, fill_alpha=1.4, size=10, legend=\"Wavelength= 367.7nm\")\n",
    "p.circle(x, y[1], fill_color=\"#dfc27d\", line_color=None, fill_alpha=1.4, size=10, legend=\"Wavelength= 411.9nm\")\n",
    "p.circle(x, y[2], fill_color=\"#80cdc1\", line_color=None, fill_alpha=1.4, size=10, legend=\"Wavelength= 500.6nm\")\n",
    "p.circle(x, y[3], fill_color=\"#018571\", line_color=None, fill_alpha=1.4, size=10, legend=\"Wavelength= 862.5nm\")\n",
    "\n",
    "\n",
    "show(p)"
   ]
  },
  {
   "cell_type": "code",
   "execution_count": null,
   "metadata": {
    "collapsed": true
   },
   "outputs": [],
   "source": []
  }
 ],
 "metadata": {
  "kernelspec": {
   "display_name": "Python 3",
   "language": "python",
   "name": "python3"
  },
  "language_info": {
   "codemirror_mode": {
    "name": "ipython",
    "version": 3
   },
   "file_extension": ".py",
   "mimetype": "text/x-python",
   "name": "python",
   "nbconvert_exporter": "python",
   "pygments_lexer": "ipython3",
   "version": "3.6.2"
  }
 },
 "nbformat": 4,
 "nbformat_minor": 1
}
