{
 "cells": [
  {
   "cell_type": "markdown",
   "metadata": {},
   "source": [
    "<table style=\"float:left; border:none\">\n",
    "   <tr style=\"border:none; background-color: #ffffff\">\n",
    "       <td style=\"border:none\">\n",
    "           <a href=\"http://www.nilu.no/\">     \n",
    "           <img \n",
    "               src=\"http://www.nilu.no/Portals/0/Logo_transparent.png\" \n",
    "               style=\"width:100%\"\n",
    "           >\n",
    "           </a>    \n",
    "       </td>\n",
    "\n",
    "   </tr>\n",
    "</table>\n",
    "<div style=\"float:right;\"><h2>Retriving data from EBAS:</h2><h3>05. Aerosol Particle Number Size Distribution</h3></div>"
   ]
  },
  {
   "cell_type": "code",
   "execution_count": null,
   "metadata": {
    "collapsed": true
   },
   "outputs": [],
   "source": [
    "from bokeh.io import output_notebook, show\n",
    "from bokeh.plotting import figure\n",
    "from netCDF4 import num2date\n",
    "from pydap.client import open_dods"
   ]
  },
  {
   "cell_type": "code",
   "execution_count": null,
   "metadata": {
    "collapsed": true
   },
   "outputs": [],
   "source": [
    "output_notebook()"
   ]
  },
  {
   "cell_type": "code",
   "execution_count": null,
   "metadata": {
    "collapsed": true
   },
   "outputs": [],
   "source": [
    "ds = open_dods('http://dev-ebas-pydap.nilu.no/NO0042G.dmps.IMG.aerosol.particle_number_size_distribution.1h.SE03L_ASP-DMPS-1.SE03L_dmps_ASP-DMPS-1..dods', timeout=1000)\n",
    "\n",
    "keys = ds.keys()"
   ]
  },
  {
   "cell_type": "code",
   "execution_count": null,
   "metadata": {
    "collapsed": true
   },
   "outputs": [],
   "source": [
    "print(keys)"
   ]
  },
  {
   "cell_type": "code",
   "execution_count": null,
   "metadata": {
    "collapsed": true
   },
   "outputs": [],
   "source": [
    "particle_number_size_distribution_prec1587 = ds['particle_number_size_distribution_prec1587']\n",
    "\n",
    "y_dmps = particle_number_size_distribution_prec1587.particle_number_size_distribution_prec1587.data\n",
    "\n",
    "x_dmps = num2date(particle_number_size_distribution_prec1587.time.data,units='days since 1900-01-01 00:00:00',calendar='gregorian')"
   ]
  },
  {
   "cell_type": "code",
   "execution_count": null,
   "metadata": {
    "collapsed": true
   },
   "outputs": [],
   "source": [
    "print(y_dmps)\n",
    "print(x_dmps)"
   ]
  }
 ],
 "metadata": {
  "kernelspec": {
   "display_name": "Python 3",
   "language": "python",
   "name": "python3"
  },
  "language_info": {
   "codemirror_mode": {
    "name": "ipython",
    "version": 3
   },
   "file_extension": ".py",
   "mimetype": "text/x-python",
   "name": "python",
   "nbconvert_exporter": "python",
   "pygments_lexer": "ipython3",
   "version": "3.6.2"
  }
 },
 "nbformat": 4,
 "nbformat_minor": 1
}
