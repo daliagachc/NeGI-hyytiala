{
 "cells": [
  {
   "cell_type": "markdown",
   "metadata": {},
   "source": [
    "<table style=\"float:left; border:none\">\n",
    "   <tr style=\"border:none; background-color: #ffffff\">\n",
    "       <td style=\"border:none\">\n",
    "           <a href=\"http://www.nilu.no/\">     \n",
    "           <img \n",
    "               src=\"http://www.nilu.no/Portals/0/Logo_transparent.png\" \n",
    "               style=\"width:100%\"\n",
    "           >\n",
    "           </a>    \n",
    "       </td>\n",
    "\n",
    "   </tr>\n",
    "</table>\n",
    "<div style=\"float:right;\"><h2>Retriving data from EBAS:</h2><h3>03. Carbon Dioxide and Methane</h3></div>"
   ]
  },
  {
   "cell_type": "markdown",
   "metadata": {},
   "source": [
    "**We will now use data from Zeppelin (Ny-Aalesund) - 2016**\n",
    "\n",
    "The observations made are part of the national monitoring programme conducted by NILU on behalf of The Norwegian Environment Agency.\n",
    "\n",
    "The monitoring programme includes measurements of 41 greenhouse gases at the Zeppelin\n",
    "Observatory in the Arctic; and this includes a long list of halocarbons, which are not only\n",
    "greenhouse gases but also ozone depleting substances."
   ]
  },
  {
   "cell_type": "code",
   "execution_count": null,
   "metadata": {
    "collapsed": true
   },
   "outputs": [],
   "source": [
    "# As always, we import the modules we need\n",
    "from bokeh.io import output_notebook, show\n",
    "from bokeh.plotting import figure\n",
    "from netCDF4 import num2date\n",
    "from pydap.client import open_dods, open_url"
   ]
  },
  {
   "cell_type": "code",
   "execution_count": null,
   "metadata": {
    "collapsed": true
   },
   "outputs": [],
   "source": [
    "output_notebook()"
   ]
  },
  {
   "cell_type": "markdown",
   "metadata": {},
   "source": [
    "**We start with the carbon dioxide data**"
   ]
  },
  {
   "cell_type": "code",
   "execution_count": null,
   "metadata": {
    "collapsed": true
   },
   "outputs": [],
   "source": [
    "ds = open_dods('http://dev-ebas-pydap.nilu.no/NO0042G.online_crds.IMG.air.carbon_dioxide.1h.NO01L_picarro2_G2401.NO01L_picarro.2.dods')\n",
    "\n",
    "keys = ds.keys()\n",
    "\n",
    "for key in keys:\n",
    "    print(key)"
   ]
  },
  {
   "cell_type": "markdown",
   "metadata": {},
   "source": [
    "**Let's get the carbon_dioxide_amean and create some varibles for plotting**"
   ]
  },
  {
   "cell_type": "code",
   "execution_count": null,
   "metadata": {
    "collapsed": true
   },
   "outputs": [],
   "source": [
    "carbon_dioxide_amean = ds['carbon_dioxide_amean']\n",
    "\n",
    "y_carbon_dioxide = carbon_dioxide_amean.carbon_dioxide_amean.data\n",
    "\n",
    "x_carbon_dioxide = num2date(carbon_dioxide_amean.time.data,units='days since 1900-01-01 00:00:00',calendar='gregorian')"
   ]
  },
  {
   "cell_type": "markdown",
   "metadata": {},
   "source": [
    "**Let's have a look at the metadata in order to determine the unit**"
   ]
  },
  {
   "cell_type": "code",
   "execution_count": null,
   "metadata": {
    "collapsed": true
   },
   "outputs": [],
   "source": [
    "ds['carbon_dioxide_amean_ebasmetadata'].keys()"
   ]
  },
  {
   "cell_type": "code",
   "execution_count": null,
   "metadata": {
    "collapsed": true
   },
   "outputs": [],
   "source": [
    "carbon_dioxide_metadata = ds['carbon_dioxide_amean_ebasmetadata'].carbon_dioxide_amean_ebasmetadata.data\n",
    "print(len(carbon_dioxide_metadata))\n",
    "#No wavelenghts this time, so there is just one element in the list\n",
    "print(carbon_dioxide_metadata[0])"
   ]
  },
  {
   "cell_type": "markdown",
   "metadata": {},
   "source": [
    "**Now that we have the variables and unit, we can plot the data**"
   ]
  },
  {
   "cell_type": "code",
   "execution_count": null,
   "metadata": {
    "collapsed": true
   },
   "outputs": [],
   "source": [
    "plot = figure(plot_width=800, plot_height=400, x_axis_type=\"datetime\", title='carbon_dioxide_zeppelin')\n",
    "\n",
    "plot.line(x_carbon_dioxide, y_carbon_dioxide, line_dash=\"4 4\", line_width=1, color='green')\n",
    "\n",
    "plot.xaxis.axis_label = 'Date'\n",
    "plot.yaxis.axis_label = 'umol/mol'\n",
    "\n",
    "show(plot)"
   ]
  },
  {
   "cell_type": "markdown",
   "metadata": {},
   "source": [
    "**We can also do a more advanced plot**"
   ]
  },
  {
   "cell_type": "code",
   "execution_count": null,
   "metadata": {
    "collapsed": true
   },
   "outputs": [],
   "source": [
    "from bokeh.plotting import figure, output_file, show\n",
    "from bokeh.models import HoverTool\n",
    "\n",
    "plot = figure(plot_width=800, plot_height=400, x_axis_type=\"datetime\", title='Carbon Dioxide Arithmetic Mean')\n",
    "\n",
    "plot.line(x_carbon_dioxide, y_carbon_dioxide, line_dash=\"4 4\", line_width=1, color='gray')\n",
    "\n",
    "plot.xaxis.axis_label = 'Date'\n",
    "plot.yaxis.axis_label = 'umol/mol'\n",
    "\n",
    "dots = plot.circle(x_carbon_dioxide, y_carbon_dioxide, size=10,\n",
    "                fill_color=\"grey\", hover_fill_color=\"firebrick\",\n",
    "                fill_alpha=0.05, hover_alpha=0.3,\n",
    "                line_color=None, hover_line_color=\"white\")\n",
    "\n",
    "# We add a hover tool for the dots, so we matches everything that matches in a horizontal line we can alos do this vertically \n",
    "#plot.add_tools(HoverTool(tooltips=None, renderers=[dots], mode='vline'))\n",
    "\n",
    "plot.add_tools(HoverTool(tooltips=None, renderers=[dots], mode='hline'))\n",
    "\n",
    "show(plot)"
   ]
  },
  {
   "cell_type": "markdown",
   "metadata": {},
   "source": [
    "**We can now have a look at the methane data for 2016**"
   ]
  },
  {
   "cell_type": "code",
   "execution_count": null,
   "metadata": {
    "collapsed": true
   },
   "outputs": [],
   "source": [
    "ds = open_dods('http://dev-ebas-pydap.nilu.no/NO0042G.online_crds.IMG.air.methane.1h.NO01L_picarro2_G2401.NO01L_picarro.2.dods')\n",
    "\n",
    "for key in ds.keys():\n",
    "    print(key)"
   ]
  },
  {
   "cell_type": "markdown",
   "metadata": {},
   "source": [
    "**Again we append the data to variables in order to plot the data**\n",
    "Note that we have a methane_amean_qc variable, this contains the flags. E.g. the data could be flagged missing data, Construction/acitivity nearby etc. Here is a full list of flags used in EBAS: http://ebas-submit.nilu.no/Submit-Data/List-of-Data-flags\n",
    "\n",
    "**Let's have a quick look at the flags:**"
   ]
  },
  {
   "cell_type": "code",
   "execution_count": null,
   "metadata": {
    "collapsed": true
   },
   "outputs": [],
   "source": [
    "methane_qc_2016 = ds['methane_amean_qc']\n",
    "print(methane_qc_2016)"
   ]
  },
  {
   "cell_type": "code",
   "execution_count": null,
   "metadata": {
    "collapsed": true
   },
   "outputs": [],
   "source": [
    "# Flag 653: Sampling period shorter than normal, considered representative. Observed values reported\n",
    "methane_qc_2016.methane_amean_qc.data"
   ]
  },
  {
   "cell_type": "markdown",
   "metadata": {},
   "source": [
    "**Okay, lets create methane variables for plotting:**"
   ]
  },
  {
   "cell_type": "code",
   "execution_count": null,
   "metadata": {
    "collapsed": true
   },
   "outputs": [],
   "source": [
    "methane_amean_2016 = ds['methane_amean']\n",
    "methane_amean_2016.keys()"
   ]
  },
  {
   "cell_type": "code",
   "execution_count": null,
   "metadata": {
    "collapsed": true
   },
   "outputs": [],
   "source": [
    "x_methane = num2date(methane_amean_2016.time.data,units='days since 1900-01-01 00:00:00',calendar='gregorian')\n",
    "y_methane = methane_amean_2016.methane_amean.data"
   ]
  },
  {
   "cell_type": "markdown",
   "metadata": {},
   "source": [
    "**Let's have a look at the metadata in order to find the unit for the y-axis**"
   ]
  },
  {
   "cell_type": "code",
   "execution_count": null,
   "metadata": {
    "collapsed": true
   },
   "outputs": [],
   "source": [
    "methane_metadata = ds['methane_amean_ebasmetadata']\n",
    "\n",
    "print(methane_metadata.keys())"
   ]
  },
  {
   "cell_type": "code",
   "execution_count": null,
   "metadata": {
    "collapsed": true
   },
   "outputs": [],
   "source": [
    "print(len(methane_metadata.methane_amean_ebasmetadata.data))\n",
    "print(methane_metadata.methane_amean_ebasmetadata.data[0])"
   ]
  },
  {
   "cell_type": "markdown",
   "metadata": {},
   "source": [
    "**Now we can create a simple plot**"
   ]
  },
  {
   "cell_type": "code",
   "execution_count": null,
   "metadata": {
    "collapsed": true
   },
   "outputs": [],
   "source": [
    "plot = figure(plot_width=800, plot_height=400, x_axis_type=\"datetime\", title='Methane 2016 Zeppelin')\n",
    "\n",
    "plot.line(x_methane, y_methane, line_dash=\"4 4\", line_width=1, color='black')\n",
    "\n",
    "plot.xaxis.axis_label = 'Date'\n",
    "plot.yaxis.axis_label = 'nmol/mol'\n",
    "\n",
    "show(plot)"
   ]
  },
  {
   "cell_type": "markdown",
   "metadata": {},
   "source": [
    "**Let's compare two specific timeperiods for both the carbon dioxide and methane time series**"
   ]
  },
  {
   "cell_type": "code",
   "execution_count": null,
   "metadata": {
    "collapsed": true
   },
   "outputs": [],
   "source": [
    "from bokeh.io import gridplot\n",
    "from bokeh.models import ColumnDataSource\n",
    "\n",
    "x = x_carbon_dioxide\n",
    "y0 = y_carbon_dioxide\n",
    "y1 = y_methane\n",
    "\n",
    "# create a column data source for the plots to share\n",
    "source = ColumnDataSource(data=dict(x=x, y0=y0, y1=y1))\n",
    "\n",
    "TOOLS='pan,wheel_zoom,xbox_select,reset'\n",
    "\n",
    "# create a new plot and add a renderer\n",
    "left = figure(tools=TOOLS, plot_width=450, plot_height=400, title=\"Carbon dioxide Zeppelin\", x_axis_type=\"datetime\")\n",
    "left.circle('x', 'y0', source=source, selection_color=\"orange\")\n",
    "\n",
    "# create another new plot and add a renderer\n",
    "right = figure(tools=TOOLS, plot_width=450, plot_height=400, title=\"Methane Zeppelin\", x_axis_type=\"datetime\")\n",
    "right.circle('x', 'y1', source=source, selection_color=\"orange\")\n",
    "\n",
    "left.xaxis.axis_label = 'Date'\n",
    "left.yaxis.axis_label = 'umol/mol'\n",
    "\n",
    "right.xaxis.axis_label = 'Date'\n",
    "right.yaxis.axis_label = 'nmol/mol'\n",
    "\n",
    "p = gridplot([[left, right]])\n",
    "\n",
    "show(p)"
   ]
  }
 ],
 "metadata": {
  "kernelspec": {
   "display_name": "Python 3",
   "language": "python",
   "name": "python3"
  },
  "language_info": {
   "codemirror_mode": {
    "name": "ipython",
    "version": 3
   },
   "file_extension": ".py",
   "mimetype": "text/x-python",
   "name": "python",
   "nbconvert_exporter": "python",
   "pygments_lexer": "ipython3",
   "version": "3.6.2"
  }
 },
 "nbformat": 4,
 "nbformat_minor": 1
}
