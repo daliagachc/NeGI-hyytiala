{
 "cells": [
  {
   "cell_type": "markdown",
   "metadata": {},
   "source": [
    "<table style=\"float:left; border:none\">\n",
    "   <tr style=\"border:none; background-color: #ffffff\">\n",
    "       <td style=\"border:none\">\n",
    "           <a href=\"http://www.nilu.no/\">     \n",
    "           <img \n",
    "               src=\"http://www.nilu.no/Portals/0/Logo_transparent.png\" \n",
    "               style=\"width:100%\"\n",
    "           >\n",
    "           </a>    \n",
    "       </td>\n",
    "\n",
    "   </tr>\n",
    "</table>\n",
    "<div style=\"float:right;\"><h2>Retriving data from EBAS:</h2><h3>04. Simple data analysis</h3></div>"
   ]
  },
  {
   "cell_type": "markdown",
   "metadata": {},
   "source": [
    "**We will now do some data analysis looking at greenhouse gases with solely anthropogenic source measured at the Zeppelin observatory.**\n",
    "**We will focus on the primary contributing CFC's, CFC-11, CFC-12, and CFC-113.**"
   ]
  },
  {
   "cell_type": "code",
   "execution_count": null,
   "metadata": {
    "collapsed": true
   },
   "outputs": [],
   "source": [
    "from bokeh.io import output_notebook, show\n",
    "from bokeh.plotting import figure\n",
    "from netCDF4 import num2date\n",
    "from pydap.client import open_dods, open_url\n",
    "%matplotlib inline\n",
    "import matplotlib.pyplot as plt"
   ]
  },
  {
   "cell_type": "code",
   "execution_count": null,
   "metadata": {
    "collapsed": true
   },
   "outputs": [],
   "source": [
    "output_notebook()"
   ]
  },
  {
   "cell_type": "markdown",
   "metadata": {},
   "source": [
    "**First, let's have a look at the data**"
   ]
  },
  {
   "cell_type": "code",
   "execution_count": null,
   "metadata": {
    "collapsed": true
   },
   "outputs": [],
   "source": [
    "ds_cfc11 = open_dods('http://dev-ebas-pydap.nilu.no/NO0042G.online_gc.IMG.air.CFC-11.2h.NO01L_Medusa-19.NO01L_AGAGE.0.dods')\n",
    "ds_cfc12 = open_dods('http://dev-ebas-pydap.nilu.no/NO0042G.online_gc.IMG.air.CFC-12.2h.NO01L_Medusa-19.NO01L_AGAGE.0.dods')\n",
    "ds_cfc113 = open_dods('http://dev-ebas-pydap.nilu.no/NO0042G.online_gc.IMG.air.CFC-113.2h.NO01L_Medusa-19.NO01L_AGAGE.0.dods')\n",
    "\n",
    "print(ds_cfc11.keys())\n",
    "print(ds_cfc12.keys())\n",
    "print(ds_cfc113.keys())"
   ]
  },
  {
   "cell_type": "markdown",
   "metadata": {},
   "source": [
    "**Let's append the data to variables**"
   ]
  },
  {
   "cell_type": "code",
   "execution_count": null,
   "metadata": {
    "collapsed": true
   },
   "outputs": [],
   "source": [
    "cfc11 = ds_cfc11['CFC-11']\n",
    "cfc12 = ds_cfc12['CFC-12']\n",
    "cfc113 = ds_cfc113['CFC-113']\n",
    "#The variables come from the same datasett (same instrument reference and method reference), so we can use the time from one of the variables \n",
    "time = num2date(cfc12.time.data,units='days since 1900-01-01 00:00:00',calendar='gregorian')"
   ]
  },
  {
   "cell_type": "markdown",
   "metadata": {},
   "source": [
    "**First we have to import pandas and orderder dict in order to create a data frame**"
   ]
  },
  {
   "cell_type": "code",
   "execution_count": null,
   "metadata": {
    "collapsed": true
   },
   "outputs": [],
   "source": [
    "import pandas as pd\n",
    "from collections import OrderedDict"
   ]
  },
  {
   "cell_type": "markdown",
   "metadata": {},
   "source": [
    "**We now create a data frame for all of our CFC data (CFC-11, CFC-12, and CFC-113)**"
   ]
  },
  {
   "cell_type": "code",
   "execution_count": null,
   "metadata": {
    "collapsed": true
   },
   "outputs": [],
   "source": [
    "data = OrderedDict([ ('Time', time),\n",
    "          ('cfc-11', cfc11['CFC-11']),\n",
    "          ('cfc-12',  cfc12['CFC-12']),\n",
    "          ('cfc-113', cfc113['CFC-113']) ] )\n",
    "df = pd.DataFrame.from_dict(data)\n",
    "\n",
    "#We set time as the index\n",
    "df.index = df['Time'] "
   ]
  },
  {
   "cell_type": "code",
   "execution_count": null,
   "metadata": {
    "collapsed": true
   },
   "outputs": [],
   "source": [
    "#Here it could be usefull to e.g. add flags a specific column, but we will leave that out for now\n",
    "#Here we have a pretty long times series\n",
    "print(df.head())\n",
    "print(df.tail())"
   ]
  },
  {
   "cell_type": "markdown",
   "metadata": {},
   "source": [
    "**First lets plot the data quickly in pandas (it makes use of the matplotlib API)**"
   ]
  },
  {
   "cell_type": "code",
   "execution_count": null,
   "metadata": {
    "collapsed": true
   },
   "outputs": [],
   "source": [
    "df['cfc-11'].plot()"
   ]
  },
  {
   "cell_type": "markdown",
   "metadata": {},
   "source": [
    "**Now that we have our data frame, we could start to analyze our data**\n",
    "\n",
    "Information regarding basic statistics functionality for the pandas package could be found here: http://pandas.pydata.org/pandas-docs/stable/basics.html"
   ]
  },
  {
   "cell_type": "code",
   "execution_count": null,
   "metadata": {
    "collapsed": true
   },
   "outputs": [],
   "source": [
    "print(df['cfc-11'].max())\n",
    "print(df['cfc-12'].min())\n",
    "print(df['cfc-113'].count())"
   ]
  },
  {
   "cell_type": "markdown",
   "metadata": {},
   "source": [
    "**Let's resample the data and aggregate data by month and plot it**"
   ]
  },
  {
   "cell_type": "code",
   "execution_count": null,
   "metadata": {
    "collapsed": true
   },
   "outputs": [],
   "source": [
    "df_resample = df.resample('M').max()\n",
    "\n",
    "df_resample['cfc-11'].plot()"
   ]
  },
  {
   "cell_type": "markdown",
   "metadata": {},
   "source": [
    "**Okay, now let's have a look at some temperature data from the Zeppelin observatory**"
   ]
  },
  {
   "cell_type": "code",
   "execution_count": null,
   "metadata": {
    "collapsed": true
   },
   "outputs": [],
   "source": [
    "ds_aws = open_dods('http://dev-ebas-pydap.nilu.no/NO0042G.aws.IMG.met.temperature.1h.NO01L_NO42_vaisala_15m.NO01L_platinum_resistance..dods')\n",
    "\n",
    "time = num2date(ds_aws.time.data,units='days since 1900-01-01 00:00:00',calendar='gregorian')\n",
    "\n",
    "#We append the data to a pandas data frame\n",
    "data = OrderedDict([ ('Time', time),\n",
    "          ('Temperature', ds_aws['temperature'].temperature) ] )\n",
    "df = pd.DataFrame.from_dict(data)"
   ]
  },
  {
   "cell_type": "code",
   "execution_count": null,
   "metadata": {
    "collapsed": true
   },
   "outputs": [],
   "source": [
    "print(df.head())\n",
    "\n",
    "#We set time as the index\n",
    "df.index = df['Time'] "
   ]
  },
  {
   "cell_type": "markdown",
   "metadata": {},
   "source": [
    "**Let's do a quick plot to inspect the data**"
   ]
  },
  {
   "cell_type": "code",
   "execution_count": null,
   "metadata": {
    "collapsed": true
   },
   "outputs": [],
   "source": [
    "df.plot()"
   ]
  },
  {
   "cell_type": "markdown",
   "metadata": {},
   "source": [
    "**We Resample the data**"
   ]
  },
  {
   "cell_type": "code",
   "execution_count": null,
   "metadata": {
    "collapsed": true
   },
   "outputs": [],
   "source": [
    "df_max = df.resample('M').max()\n",
    "df_min = df.resample('M').min()"
   ]
  },
  {
   "cell_type": "markdown",
   "metadata": {},
   "source": [
    "**We can now make a more interactive plot we Bokeh**\n",
    "\n",
    "We can also take a snapshot of the plot or parts of the plot, and download it as a png"
   ]
  },
  {
   "cell_type": "code",
   "execution_count": null,
   "metadata": {
    "collapsed": true
   },
   "outputs": [],
   "source": [
    "from bokeh.models import HoverTool\n",
    "\n",
    "p = figure(plot_width=900, plot_height=400, x_axis_type=\"datetime\", title=\"Temperature 2016 at Zeppelin\")\n",
    "\n",
    "p.grid.grid_line_alpha = 2\n",
    "p.xaxis.axis_label = 'Month'\n",
    "p.yaxis.axis_label = 'Temperature (Degrees C)'\n",
    "p.ygrid.band_fill_color = \"olive\"\n",
    "p.ygrid.band_fill_alpha = 0.1\n",
    "\n",
    "p.line(df_max.index,df_max['Temperature'], legend='monthly max', line_width=3, line_alpha=0.8, color='#fc8d62')\n",
    "\n",
    "p.line(df_min.index,df_min['Temperature'], legend='monthly min', line_width=3, line_alpha=0.8, color='#8da0cb')\n",
    "\n",
    "p.legend.location = \"top_right\"\n",
    "\n",
    "show(p)"
   ]
  },
  {
   "cell_type": "markdown",
   "metadata": {},
   "source": [
    "**We can also easily download our dataproducts to a csv file**"
   ]
  },
  {
   "cell_type": "code",
   "execution_count": null,
   "metadata": {
    "collapsed": true
   },
   "outputs": [],
   "source": [
    "filename='monthly_max_zeppelin.txt'\n",
    "df_max.to_csv(filename, sep=',', encoding='utf-8')"
   ]
  }
 ],
 "metadata": {
  "kernelspec": {
   "display_name": "Python 3",
   "language": "python",
   "name": "python3"
  },
  "language_info": {
   "codemirror_mode": {
    "name": "ipython",
    "version": 3
   },
   "file_extension": ".py",
   "mimetype": "text/x-python",
   "name": "python",
   "nbconvert_exporter": "python",
   "pygments_lexer": "ipython3",
   "version": "3.6.2"
  }
 },
 "nbformat": 4,
 "nbformat_minor": 1
}
